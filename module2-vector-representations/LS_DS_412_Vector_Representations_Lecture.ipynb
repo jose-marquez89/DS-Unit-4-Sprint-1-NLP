{
 "cells": [
  {
   "cell_type": "markdown",
   "metadata": {},
   "source": [
    "Lambda School Data Science\n",
    "\n",
    "*Unit 4, Sprint 1, Module 2*\n",
    "\n",
    "---\n",
    "\n",
    "# Vector Representations (Prepare)\n",
    "\n",
    "\n",
    "As we learned yesterday, machines cannot interpret raw text. We need to transform that text into something we/machines can more readily analyze. Yesterday, we did simple counts of counts to summarize the content of Amazon reviews. Today, we'll extend those concepts to talk about vector representations such as Bag of Words (BoW) and word embedding models. We'll use those representations for search, visualization, and prepare for our classification day tomorrow. \n",
    "\n",
    "Processing text data to prepare it for machine learning models often means translating the information from documents into a numerical format. Bag-of-Words approaches (sometimes referred to as Frequency-Based word embeddings) accomplish this by \"vectorizing\" tokenized documents. This is done by representing each document as a row in a DataFrame and creating a column for each unique word in the corpora (group of documents). The presence or lack of a given word in a document is then represented either as a raw count of how many times a given word appears in a document (CountVectorizer) or as that word's TF-IDF score (TfidfVectorizer).\n",
    "\n",
    "On the python side, we will be focusing on `sklearn` and `spacy` today.  \n",
    "\n",
    "## Case Study\n",
    "\n",
    "We're going to pretend we're on the datascience team at the BBC. We want to recommend articles to visitors to on the BBC website based on the article they just read. Our team wants \n",
    "\n",
    "**Dataset:**\n",
    "\n",
    "[D. Greene and P. Cunningham. \"Practical Solutions to the Problem of Diagonal Dominance in Kernel Document Clustering\", Proc. ICML 2006.](http://mlg.ucd.ie/datasets/bbc.html)\n",
    "*Please note that the dataset has been sampled down to tech articles only.* \n",
    "\n",
    "## Learning Objectives\n",
    "* <a href=\"#p1\">Part 1</a>: Represent a document as a vector\n",
    "* <a href=\"#p2\">Part 2</a>: Query Documents by Similarity\n",
    "* <a href=\"#p3\">Part 3</a>: Apply word embedding models to create document vectors"
   ]
  },
  {
   "cell_type": "markdown",
   "metadata": {},
   "source": [
    "# Represent a document as a vector (Learn)\n",
    "<a id=\"p1\"></a>"
   ]
  },
  {
   "cell_type": "markdown",
   "metadata": {},
   "source": [
    "## Overview\n",
    "\n",
    "In this section, we are going to create Document Term Matrices (DTM). Each column represents a word. Each row represents a document. The value in each cell can be range of different things. The most traditional: counts of appearances of words, does the word appear at all (binary), and term-frequency inverse-document frequency (TF-IDF). \n",
    "\n",
    "**Discussion:** Don't we loose all the context and grammar if we do this? So Why does it work?"
   ]
  },
  {
   "cell_type": "markdown",
   "metadata": {
    "toc-hr-collapsed": true
   },
   "source": [
    "## Follow Along"
   ]
  },
  {
   "cell_type": "code",
   "execution_count": 1,
   "metadata": {},
   "outputs": [],
   "source": [
    "\"\"\" Import Statements \"\"\"\n",
    "\n",
    "# Classics\n",
    "import pandas as pd\n",
    "import seaborn as sns\n",
    "import matplotlib.pyplot as plt\n",
    "\n",
    "from sklearn.feature_extraction.text import CountVectorizer, TfidfVectorizer\n",
    "from sklearn.metrics.pairwise import cosine_similarity\n",
    "from sklearn.neighbors import NearestNeighbors\n",
    "from sklearn.decomposition import PCA\n",
    "\n",
    "import spacy\n",
    "nlp = spacy.load(\"en_core_web_lg\")"
   ]
  },
  {
   "cell_type": "markdown",
   "metadata": {},
   "source": [
    "**Warm Up (_3 Minutes_)**\n",
    "\n",
    "Extract the tokens from this sentence using Spacy. Text is from [OpenAI](https://openai.com/blog/better-language-models/)"
   ]
  },
  {
   "cell_type": "code",
   "execution_count": 2,
   "metadata": {},
   "outputs": [],
   "source": [
    "text = \"We created a new dataset which emphasizes diversity of content, by scraping content from the Internet. In order to preserve document quality, we used only pages which have been curated/filtered by humans—specifically, we used outbound links from Reddit which received at least 3 karma. This can be thought of as a heuristic indicator for whether other users found the link interesting (whether educational or funny), leading to higher data quality than other similar datasets, such as CommonCrawl.\""
   ]
  },
  {
   "cell_type": "code",
   "execution_count": 4,
   "metadata": {},
   "outputs": [
    {
     "name": "stdout",
     "output_type": "stream",
     "text": [
      "['create', 'new', 'dataset', 'emphasize', 'diversity', 'content', 'scrape', 'content', 'internet', 'order', 'preserve', 'document', 'quality', 'page', 'curate', 'filter', 'human', 'specifically', 'outbound', 'link', 'Reddit', 'receive', '3', 'karma', 'think', 'heuristic', 'indicator', 'user', 'find', 'link', 'interesting', 'educational', 'funny', 'lead', 'high', 'datum', 'quality', 'similar', 'dataset', 'CommonCrawl']\n"
     ]
    }
   ],
   "source": [
    "doc = nlp(text)\n",
    "\n",
    "print([token.lemma_ for token in doc if (token.is_stop != True) and (token.is_punct != True)])"
   ]
  },
  {
   "cell_type": "code",
   "execution_count": 5,
   "metadata": {},
   "outputs": [],
   "source": [
    "import os \n",
    "\n",
    "def gather_data(filefolder):\n",
    "    \"\"\" Produces List of Documents from a Directory\n",
    "    \n",
    "    filefolder (str): a path of .txt files\n",
    "    \n",
    "    returns list of strings \n",
    "    \"\"\"\n",
    "    \n",
    "    data = []\n",
    "    \n",
    "    files = os.listdir(filefolder) # Causes variation across machines\n",
    "    \n",
    "    for article in files: \n",
    "        \n",
    "        path = os.path.join(filefolder, article)\n",
    "                    \n",
    "        if  path[-3:] == 'txt': # os ~endswith('txt')\n",
    "            with open(path, 'rb') as f:\n",
    "                data.append(f.read())\n",
    "    \n",
    "    return data"
   ]
  },
  {
   "cell_type": "code",
   "execution_count": 6,
   "metadata": {},
   "outputs": [],
   "source": [
    "data = gather_data('./data')"
   ]
  },
  {
   "cell_type": "code",
   "execution_count": 11,
   "metadata": {},
   "outputs": [
    {
     "data": {
      "text/plain": [
       "b'EU software patent law faces axe\\n\\nThe European Parliament has thrown out a bill that would have allowed software to be patented.\\n\\nPoliticians unanimously rejected the bill and now it must go through another round of consultation if it is to have a chance of becoming law. During consultation the software patents bill could be substantially re-drafted or even scrapped. The bill was backed by some hi-tech firms, saying they needed protections it offered to make research worthwhile.\\n\\nHugo Lueders, European director for public policy at CompTIA, an umbrella organization for technology companies, said only when intellectual property was adequately protected would European inventors prosper. He said the benefits of the bill had been obscured by special interest groups which muddied debate over the rights and wrongs of software patents. Other proponents of the bill said it was a good compromise that avoided the excesses of the American system which allows the patenting of business practices as well as software. But opponents of the bill said that it could stifle innovation, be abused by firms keen to protect existing monopolies and could hamper the growth of the open source movement. The proposed law had a troubled passage through the European parliament. Its progress was delayed twice when Polish MEPs rejected plans to adopt it. Also earlier this month the influential European Legal Affairs Committee (JURI) said the law should be re-drafted after it failed to win the support of MEPs. To become law both the European Parliament and a qualified majority of EU states have to approve of the draft wording of the bill. The latest rejection means that now the bill on computer inventions must go back to the EU for re-consideration.\\n'"
      ]
     },
     "execution_count": 11,
     "metadata": {},
     "output_type": "execute_result"
    }
   ],
   "source": [
    "data[0]"
   ]
  },
  {
   "cell_type": "markdown",
   "metadata": {},
   "source": [
    "### CountVectorizer"
   ]
  },
  {
   "cell_type": "code",
   "execution_count": 12,
   "metadata": {},
   "outputs": [],
   "source": [
    "from sklearn.feature_extraction.text import CountVectorizer\n",
    "\n",
    "# list of text documents\n",
    "text = [\"We created a new dataset which emphasizes diversity of content, by scraping content from the Internet.\",\" In order to preserve document quality, we used only pages which have been curated/filtered by humans—specifically, we used outbound links from Reddit which received at least 3 karma.\",\" This can be thought of as a heuristic indicator for whether other users found the link interesting (whether educational or funny), leading to higher data quality than other similar datasets, such as CommonCrawl.\"]\n",
    "\n",
    "# create the transformer\n",
    "vect = CountVectorizer()\n",
    "\n",
    "# build vocab\n",
    "vect.fit(text)\n",
    "\n",
    "# transform text\n",
    "dtm = vect.transform(text)\n",
    "\n",
    "# Create a Vocabulary\n",
    "# The vocabulary establishes all of the possible words that we might use.\n",
    "\n",
    "# The vocabulary dictionary does not represent the counts of words!!\n"
   ]
  },
  {
   "cell_type": "code",
   "execution_count": 15,
   "metadata": {},
   "outputs": [
    {
<<<<<<< HEAD
     "ename": "TypeError",
     "evalue": "object of type 'CountVectorizer' has no len()",
     "output_type": "error",
     "traceback": [
      "\u001b[0;31m---------------------------------------------------------------------------\u001b[0m",
      "\u001b[0;31mTypeError\u001b[0m                                 Traceback (most recent call last)",
      "\u001b[0;32m<ipython-input-15-a3075cc2aaf0>\u001b[0m in \u001b[0;36m<module>\u001b[0;34m\u001b[0m\n\u001b[0;32m----> 1\u001b[0;31m \u001b[0mlen\u001b[0m\u001b[0;34m(\u001b[0m\u001b[0mvect\u001b[0m\u001b[0;34m)\u001b[0m\u001b[0;34m\u001b[0m\u001b[0;34m\u001b[0m\u001b[0m\n\u001b[0m",
      "\u001b[0;31mTypeError\u001b[0m: object of type 'CountVectorizer' has no len()"
     ]
    }
   ],
   "source": []
  },
  {
   "cell_type": "code",
   "execution_count": 13,
=======
     "data": {
      "text/plain": [
       "numpy.matrixlib.defmatrix.matrix"
      ]
     },
     "execution_count": 15,
     "metadata": {},
     "output_type": "execute_result"
    }
   ],
   "source": [
    "type(dtm.todense())"
   ]
  },
  {
   "cell_type": "code",
   "execution_count": 8,
>>>>>>> 12467e3600c3f6b9373a65821d6283170bbb49be
   "metadata": {},
   "outputs": [
    {
     "name": "stdout",
     "output_type": "stream",
     "text": [
      "['as', 'at', 'be', 'been', 'by', 'can', 'commoncrawl', 'content', 'created', 'curated', 'data', 'dataset', 'datasets', 'diversity', 'document', 'educational', 'emphasizes', 'filtered', 'for', 'found', 'from', 'funny', 'have', 'heuristic', 'higher', 'humans', 'in', 'indicator', 'interesting', 'internet', 'karma', 'leading', 'least', 'link', 'links', 'new', 'of', 'only', 'or', 'order', 'other', 'outbound', 'pages', 'preserve', 'quality', 'received', 'reddit', 'scraping', 'similar', 'specifically', 'such', 'than', 'the', 'this', 'thought', 'to', 'used', 'users', 'we', 'whether', 'which']\n"
     ]
    }
   ],
   "source": [
    "print(vect.get_feature_names())"
   ]
  },
  {
   "cell_type": "code",
   "execution_count": 26,
   "metadata": {},
   "outputs": [
    {
     "data": {
      "text/plain": [
       "['We created a new dataset which emphasizes diversity of content, by scraping content from the Internet.',\n",
       " ' In order to preserve document quality, we used only pages which have been curated/filtered by humans—specifically, we used outbound links from Reddit which received at least 3 karma.',\n",
       " ' This can be thought of as a heuristic indicator for whether other users found the link interesting (whether educational or funny), leading to higher data quality than other similar datasets, such as CommonCrawl.']"
      ]
     },
     "execution_count": 26,
     "metadata": {},
     "output_type": "execute_result"
    }
   ],
   "source": [
    "text[:3]"
   ]
  },
  {
   "cell_type": "code",
   "execution_count": 33,
   "metadata": {},
   "outputs": [
    {
     "name": "stdout",
     "output_type": "stream",
     "text": [
      "  (0, 4)\t1\n",
      "  (0, 7)\t2\n",
      "  (0, 8)\t1\n",
      "  (0, 11)\t1\n",
      "  (0, 13)\t1\n",
      "  (0, 16)\t1\n",
      "  (0, 20)\t1\n",
      "  (0, 29)\t1\n",
      "  (0, 35)\t1\n",
      "  (0, 36)\t1\n",
      "  (0, 47)\t1\n",
      "  (0, 52)\t1\n",
      "  (0, 58)\t1\n",
      "  (0, 60)\t1\n",
      "  (1, 1)\t1\n",
      "  (1, 3)\t1\n",
      "  (1, 4)\t1\n",
      "  (1, 9)\t1\n",
      "  (1, 14)\t1\n",
      "  (1, 17)\t1\n",
      "  (1, 20)\t1\n",
      "  (1, 22)\t1\n",
      "  (1, 25)\t1\n",
      "  (1, 26)\t1\n",
      "  (1, 30)\t1\n",
      "  :\t:\n",
      "  (2, 10)\t1\n",
      "  (2, 12)\t1\n",
      "  (2, 15)\t1\n",
      "  (2, 18)\t1\n",
      "  (2, 19)\t1\n",
      "  (2, 21)\t1\n",
      "  (2, 23)\t1\n",
      "  (2, 24)\t1\n",
      "  (2, 27)\t1\n",
      "  (2, 28)\t1\n",
      "  (2, 31)\t1\n",
      "  (2, 33)\t1\n",
      "  (2, 36)\t1\n",
      "  (2, 38)\t1\n",
      "  (2, 40)\t2\n",
      "  (2, 44)\t1\n",
      "  (2, 48)\t1\n",
      "  (2, 50)\t1\n",
      "  (2, 51)\t1\n",
      "  (2, 52)\t1\n",
      "  (2, 53)\t1\n",
      "  (2, 54)\t1\n",
      "  (2, 55)\t1\n",
      "  (2, 57)\t1\n",
      "  (2, 59)\t2\n"
     ]
    }
   ],
   "source": [
    "print(dtm)"
   ]
  },
  {
   "cell_type": "code",
<<<<<<< HEAD
   "execution_count": 30,
=======
   "execution_count": 10,
>>>>>>> 12467e3600c3f6b9373a65821d6283170bbb49be
   "metadata": {},
   "outputs": [
    {
     "data": {
      "text/plain": [
       "matrix([[0, 0, 0, 0, 1, 0, 0, 2, 1, 0, 0, 1, 0, 1, 0, 0, 1, 0, 0, 0, 1,\n",
       "         0, 0, 0, 0, 0, 0, 0, 0, 1, 0, 0, 0, 0, 0, 1, 1, 0, 0, 0, 0, 0,\n",
       "         0, 0, 0, 0, 0, 1, 0, 0, 0, 0, 1, 0, 0, 0, 0, 0, 1, 0, 1],\n",
       "        [0, 1, 0, 1, 1, 0, 0, 0, 0, 1, 0, 0, 0, 0, 1, 0, 0, 1, 0, 0, 1,\n",
       "         0, 1, 0, 0, 1, 1, 0, 0, 0, 1, 0, 1, 0, 1, 0, 0, 1, 0, 1, 0, 1,\n",
       "         1, 1, 1, 1, 1, 0, 0, 1, 0, 0, 0, 0, 0, 1, 2, 0, 2, 0, 2],\n",
       "        [2, 0, 1, 0, 0, 1, 1, 0, 0, 0, 1, 0, 1, 0, 0, 1, 0, 0, 1, 1, 0,\n",
       "         1, 0, 1, 1, 0, 0, 1, 1, 0, 0, 1, 0, 1, 0, 0, 1, 0, 1, 0, 2, 0,\n",
       "         0, 0, 1, 0, 0, 0, 1, 0, 1, 1, 1, 1, 1, 1, 0, 1, 0, 2, 0]])"
      ]
     },
<<<<<<< HEAD
     "execution_count": 30,
=======
     "execution_count": 10,
>>>>>>> 12467e3600c3f6b9373a65821d6283170bbb49be
     "metadata": {},
     "output_type": "execute_result"
    }
   ],
   "source": [
    "# Dealing with Sparse Matrix\n",
    "dtm.todense()"
   ]
  },
  {
   "cell_type": "code",
   "execution_count": 12,
   "metadata": {},
   "outputs": [
    {
     "data": {
      "text/plain": [
       "pandas.core.frame.DataFrame"
      ]
     },
     "execution_count": 12,
     "metadata": {},
     "output_type": "execute_result"
    }
   ],
   "source": [
    "type(dtm)"
   ]
  },
  {
   "cell_type": "code",
   "execution_count": 11,
   "metadata": {},
   "outputs": [
    {
     "data": {
      "text/html": [
       "<div>\n",
       "<style scoped>\n",
       "    .dataframe tbody tr th:only-of-type {\n",
       "        vertical-align: middle;\n",
       "    }\n",
       "\n",
       "    .dataframe tbody tr th {\n",
       "        vertical-align: top;\n",
       "    }\n",
       "\n",
       "    .dataframe thead th {\n",
       "        text-align: right;\n",
       "    }\n",
       "</style>\n",
       "<table border=\"1\" class=\"dataframe\">\n",
       "  <thead>\n",
       "    <tr style=\"text-align: right;\">\n",
       "      <th></th>\n",
       "      <th>as</th>\n",
       "      <th>at</th>\n",
       "      <th>be</th>\n",
       "      <th>been</th>\n",
       "      <th>by</th>\n",
       "      <th>can</th>\n",
       "      <th>commoncrawl</th>\n",
       "      <th>content</th>\n",
       "      <th>created</th>\n",
       "      <th>curated</th>\n",
       "      <th>...</th>\n",
       "      <th>than</th>\n",
       "      <th>the</th>\n",
       "      <th>this</th>\n",
       "      <th>thought</th>\n",
       "      <th>to</th>\n",
       "      <th>used</th>\n",
       "      <th>users</th>\n",
       "      <th>we</th>\n",
       "      <th>whether</th>\n",
       "      <th>which</th>\n",
       "    </tr>\n",
       "  </thead>\n",
       "  <tbody>\n",
       "    <tr>\n",
       "      <th>0</th>\n",
       "      <td>0</td>\n",
       "      <td>0</td>\n",
       "      <td>0</td>\n",
       "      <td>0</td>\n",
       "      <td>1</td>\n",
       "      <td>0</td>\n",
       "      <td>0</td>\n",
       "      <td>2</td>\n",
       "      <td>1</td>\n",
       "      <td>0</td>\n",
       "      <td>...</td>\n",
       "      <td>0</td>\n",
       "      <td>1</td>\n",
       "      <td>0</td>\n",
       "      <td>0</td>\n",
       "      <td>0</td>\n",
       "      <td>0</td>\n",
       "      <td>0</td>\n",
       "      <td>1</td>\n",
       "      <td>0</td>\n",
       "      <td>1</td>\n",
       "    </tr>\n",
       "    <tr>\n",
       "      <th>1</th>\n",
       "      <td>0</td>\n",
       "      <td>1</td>\n",
       "      <td>0</td>\n",
       "      <td>1</td>\n",
       "      <td>1</td>\n",
       "      <td>0</td>\n",
       "      <td>0</td>\n",
       "      <td>0</td>\n",
       "      <td>0</td>\n",
       "      <td>1</td>\n",
       "      <td>...</td>\n",
       "      <td>0</td>\n",
       "      <td>0</td>\n",
       "      <td>0</td>\n",
       "      <td>0</td>\n",
       "      <td>1</td>\n",
       "      <td>2</td>\n",
       "      <td>0</td>\n",
       "      <td>2</td>\n",
       "      <td>0</td>\n",
       "      <td>2</td>\n",
       "    </tr>\n",
       "    <tr>\n",
       "      <th>2</th>\n",
       "      <td>2</td>\n",
       "      <td>0</td>\n",
       "      <td>1</td>\n",
       "      <td>0</td>\n",
       "      <td>0</td>\n",
       "      <td>1</td>\n",
       "      <td>1</td>\n",
       "      <td>0</td>\n",
       "      <td>0</td>\n",
       "      <td>0</td>\n",
       "      <td>...</td>\n",
       "      <td>1</td>\n",
       "      <td>1</td>\n",
       "      <td>1</td>\n",
       "      <td>1</td>\n",
       "      <td>1</td>\n",
       "      <td>0</td>\n",
       "      <td>1</td>\n",
       "      <td>0</td>\n",
       "      <td>2</td>\n",
       "      <td>0</td>\n",
       "    </tr>\n",
       "  </tbody>\n",
       "</table>\n",
       "<p>3 rows × 61 columns</p>\n",
       "</div>"
      ],
      "text/plain": [
       "   as  at  be  been  by  can  commoncrawl  content  created  curated  ...  \\\n",
       "0   0   0   0     0   1    0            0        2        1        0  ...   \n",
       "1   0   1   0     1   1    0            0        0        0        1  ...   \n",
       "2   2   0   1     0   0    1            1        0        0        0  ...   \n",
       "\n",
       "   than  the  this  thought  to  used  users  we  whether  which  \n",
       "0     0    1     0        0   0     0      0   1        0      1  \n",
       "1     0    0     0        0   1     2      0   2        0      2  \n",
       "2     1    1     1        1   1     0      1   0        2      0  \n",
       "\n",
       "[3 rows x 61 columns]"
      ]
     },
     "execution_count": 11,
     "metadata": {},
     "output_type": "execute_result"
    }
   ],
   "source": [
    "# Get Word Counts for each document\n",
    "dtm = pd.DataFrame(dtm.todense(), columns=vect.get_feature_names())\n",
    "dtm"
   ]
  },
  {
   "cell_type": "code",
   "execution_count": 48,
   "metadata": {},
   "outputs": [
    {
     "name": "stdout",
     "output_type": "stream",
     "text": [
      "b'EU software patent law fa'\n"
     ]
    }
   ],
   "source": [
    "print(data[0][:25])"
   ]
  },
  {
   "cell_type": "code",
   "execution_count": 53,
   "metadata": {},
   "outputs": [
    {
     "data": {
      "text/plain": [
       "401"
      ]
     },
     "execution_count": 53,
     "metadata": {},
     "output_type": "execute_result"
    }
   ],
   "source": [
    "len(data)"
   ]
  },
  {
   "cell_type": "markdown",
   "metadata": {},
   "source": [
    "**Three Minute Challenge:** \n",
    "* Apply CountVectorizer to our BBC Data\n",
    "* Store results in a dataframe called `dtm`\n",
    "* Extra Challenge - Try to Customize CountVectorizer with Spacy Processing"
   ]
  },
  {
   "cell_type": "code",
<<<<<<< HEAD
   "execution_count": 54,
=======
   "execution_count": 30,
>>>>>>> 12467e3600c3f6b9373a65821d6283170bbb49be
   "metadata": {},
   "outputs": [],
   "source": [
    "# Apply CountVectorizer to our Data\n",
    "# Use custom Spacy Vectorizer\n",
    "# BBC articles in `data` variable\n",
    "\n",
    "from sklearn.feature_extraction.text import CountVectorizer\n",
    "\n",
    "vect = CountVectorizer(stop_words='english', max_features=1000)\n",
    "\n",
    "#Learn our Vocab\n",
    "vect.fit(data)\n",
    "\n",
    "# Get sparse dtm\n",
    "dtm = vect.transform(data)\n",
    "\n",
    "dtm = pd.DataFrame(dtm.todense(), columns=vect.get_feature_names())"
   ]
  },
  {
   "cell_type": "code",
   "execution_count": 31,
   "metadata": {},
   "outputs": [
    {
     "data": {
      "text/html": [
       "<div>\n",
       "<style scoped>\n",
       "    .dataframe tbody tr th:only-of-type {\n",
       "        vertical-align: middle;\n",
       "    }\n",
       "\n",
       "    .dataframe tbody tr th {\n",
       "        vertical-align: top;\n",
       "    }\n",
       "\n",
       "    .dataframe thead th {\n",
       "        text-align: right;\n",
       "    }\n",
       "</style>\n",
       "<table border=\"1\" class=\"dataframe\">\n",
       "  <thead>\n",
       "    <tr style=\"text-align: right;\">\n",
       "      <th></th>\n",
       "      <th>000</th>\n",
       "      <th>10</th>\n",
       "      <th>100</th>\n",
       "      <th>11</th>\n",
       "      <th>12</th>\n",
       "      <th>14</th>\n",
       "      <th>15</th>\n",
       "      <th>18</th>\n",
       "      <th>20</th>\n",
       "      <th>200</th>\n",
       "      <th>...</th>\n",
       "      <th>worldwide</th>\n",
       "      <th>worm</th>\n",
       "      <th>worth</th>\n",
       "      <th>writing</th>\n",
       "      <th>xbox</th>\n",
       "      <th>xp</th>\n",
       "      <th>yahoo</th>\n",
       "      <th>year</th>\n",
       "      <th>years</th>\n",
       "      <th>york</th>\n",
       "    </tr>\n",
       "  </thead>\n",
       "  <tbody>\n",
       "    <tr>\n",
       "      <th>0</th>\n",
       "      <td>1</td>\n",
       "      <td>2</td>\n",
       "      <td>0</td>\n",
       "      <td>0</td>\n",
       "      <td>0</td>\n",
       "      <td>0</td>\n",
       "      <td>0</td>\n",
       "      <td>1</td>\n",
       "      <td>3</td>\n",
       "      <td>0</td>\n",
       "      <td>...</td>\n",
       "      <td>0</td>\n",
       "      <td>0</td>\n",
       "      <td>0</td>\n",
       "      <td>0</td>\n",
       "      <td>0</td>\n",
       "      <td>0</td>\n",
       "      <td>0</td>\n",
       "      <td>0</td>\n",
       "      <td>4</td>\n",
       "      <td>1</td>\n",
       "    </tr>\n",
       "    <tr>\n",
       "      <th>1</th>\n",
       "      <td>0</td>\n",
       "      <td>0</td>\n",
       "      <td>0</td>\n",
       "      <td>1</td>\n",
       "      <td>0</td>\n",
       "      <td>0</td>\n",
       "      <td>0</td>\n",
       "      <td>1</td>\n",
       "      <td>0</td>\n",
       "      <td>0</td>\n",
       "      <td>...</td>\n",
       "      <td>0</td>\n",
       "      <td>0</td>\n",
       "      <td>0</td>\n",
       "      <td>0</td>\n",
       "      <td>0</td>\n",
       "      <td>0</td>\n",
       "      <td>0</td>\n",
       "      <td>2</td>\n",
       "      <td>0</td>\n",
       "      <td>0</td>\n",
       "    </tr>\n",
       "    <tr>\n",
       "      <th>2</th>\n",
       "      <td>3</td>\n",
       "      <td>0</td>\n",
       "      <td>0</td>\n",
       "      <td>0</td>\n",
       "      <td>0</td>\n",
       "      <td>0</td>\n",
       "      <td>0</td>\n",
       "      <td>0</td>\n",
       "      <td>1</td>\n",
       "      <td>0</td>\n",
       "      <td>...</td>\n",
       "      <td>0</td>\n",
       "      <td>0</td>\n",
       "      <td>0</td>\n",
       "      <td>0</td>\n",
       "      <td>1</td>\n",
       "      <td>0</td>\n",
       "      <td>0</td>\n",
       "      <td>2</td>\n",
       "      <td>2</td>\n",
       "      <td>0</td>\n",
       "    </tr>\n",
       "    <tr>\n",
       "      <th>3</th>\n",
       "      <td>0</td>\n",
       "      <td>0</td>\n",
       "      <td>0</td>\n",
       "      <td>0</td>\n",
       "      <td>0</td>\n",
       "      <td>0</td>\n",
       "      <td>0</td>\n",
       "      <td>0</td>\n",
       "      <td>0</td>\n",
       "      <td>0</td>\n",
       "      <td>...</td>\n",
       "      <td>0</td>\n",
       "      <td>0</td>\n",
       "      <td>0</td>\n",
       "      <td>0</td>\n",
       "      <td>0</td>\n",
       "      <td>0</td>\n",
       "      <td>0</td>\n",
       "      <td>0</td>\n",
       "      <td>0</td>\n",
       "      <td>0</td>\n",
       "    </tr>\n",
       "    <tr>\n",
       "      <th>4</th>\n",
       "      <td>0</td>\n",
       "      <td>0</td>\n",
       "      <td>0</td>\n",
       "      <td>0</td>\n",
       "      <td>0</td>\n",
       "      <td>0</td>\n",
       "      <td>0</td>\n",
       "      <td>0</td>\n",
       "      <td>0</td>\n",
       "      <td>0</td>\n",
       "      <td>...</td>\n",
       "      <td>0</td>\n",
       "      <td>0</td>\n",
       "      <td>0</td>\n",
       "      <td>0</td>\n",
       "      <td>0</td>\n",
       "      <td>0</td>\n",
       "      <td>0</td>\n",
       "      <td>0</td>\n",
       "      <td>1</td>\n",
       "      <td>0</td>\n",
       "    </tr>\n",
       "  </tbody>\n",
       "</table>\n",
       "<p>5 rows × 1000 columns</p>\n",
       "</div>"
      ],
      "text/plain": [
       "   000  10  100  11  12  14  15  18  20  200  ...  worldwide  worm  worth  \\\n",
       "0    1   2    0   0   0   0   0   1   3    0  ...          0     0      0   \n",
       "1    0   0    0   1   0   0   0   1   0    0  ...          0     0      0   \n",
       "2    3   0    0   0   0   0   0   0   1    0  ...          0     0      0   \n",
       "3    0   0    0   0   0   0   0   0   0    0  ...          0     0      0   \n",
       "4    0   0    0   0   0   0   0   0   0    0  ...          0     0      0   \n",
       "\n",
       "   writing  xbox  xp  yahoo  year  years  york  \n",
       "0        0     0   0      0     0      4     1  \n",
       "1        0     0   0      0     2      0     0  \n",
       "2        0     1   0      0     2      2     0  \n",
       "3        0     0   0      0     0      0     0  \n",
       "4        0     0   0      0     0      1     0  \n",
       "\n",
       "[5 rows x 1000 columns]"
      ]
     },
     "execution_count": 31,
     "metadata": {},
     "output_type": "execute_result"
    }
   ],
   "source": [
    "dtm.head()"
   ]
  },
  {
   "cell_type": "code",
   "execution_count": null,
   "metadata": {},
   "outputs": [],
   "source": []
  },
  {
   "cell_type": "code",
<<<<<<< HEAD
   "execution_count": 55,
=======
   "execution_count": 32,
>>>>>>> 12467e3600c3f6b9373a65821d6283170bbb49be
   "metadata": {},
   "outputs": [],
   "source": [
    "doc_len = [len(doc) for doc in data]"
   ]
  },
  {
   "cell_type": "code",
<<<<<<< HEAD
   "execution_count": 56,
   "metadata": {},
   "outputs": [
    {
     "data": {
      "image/png": "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\n",
=======
   "execution_count": 33,
   "metadata": {},
   "outputs": [
    {
     "name": "stderr",
     "output_type": "stream",
     "text": [
      "/Users/jonathansokoll/anaconda3/envs/U4-S1-NLP-DS10/lib/python3.7/site-packages/scipy/stats/stats.py:1713: FutureWarning: Using a non-tuple sequence for multidimensional indexing is deprecated; use `arr[tuple(seq)]` instead of `arr[seq]`. In the future this will be interpreted as an array index, `arr[np.array(seq)]`, which will result either in an error or a different result.\n",
      "  return np.add.reduce(sorted[indexer] * weights, axis=axis) / sumval\n"
     ]
    },
    {
     "data": {
      "image/png": "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\n",
>>>>>>> 12467e3600c3f6b9373a65821d6283170bbb49be
      "text/plain": [
       "<Figure size 432x288 with 1 Axes>"
      ]
     },
     "metadata": {
      "needs_background": "light"
     },
     "output_type": "display_data"
    }
   ],
   "source": [
    "import seaborn as sns\n",
    "\n",
    "sns.distplot(doc_len);"
   ]
  },
  {
   "cell_type": "markdown",
   "metadata": {},
   "source": [
    "### TfidfVectorizer\n",
    "\n",
    "## Term Frequency - Inverse Document Frequency (TF-IDF)\n",
    "\n",
    "<center><img src=\"https://mungingdata.files.wordpress.com/2017/11/equation.png?w=430&h=336\" width=\"300\"></center>\n",
    "\n",
    "Term Frequency: Percentage of words in document for each word\n",
    "\n",
    "Document Frequency: A penalty for the word existing in a high number of documents.\n",
    "\n",
    "The purpose of TF-IDF is to find what is **unique** to each document. Because of this we will penalize the term frequencies of words that are common across all documents which will allow for each document's most different topics to rise to the top."
   ]
  },
  {
   "cell_type": "code",
<<<<<<< HEAD
   "execution_count": 57,
=======
   "execution_count": 35,
>>>>>>> 12467e3600c3f6b9373a65821d6283170bbb49be
   "metadata": {},
   "outputs": [
    {
     "data": {
      "text/html": [
       "<div>\n",
       "<style scoped>\n",
       "    .dataframe tbody tr th:only-of-type {\n",
       "        vertical-align: middle;\n",
       "    }\n",
       "\n",
       "    .dataframe tbody tr th {\n",
       "        vertical-align: top;\n",
       "    }\n",
       "\n",
       "    .dataframe thead th {\n",
       "        text-align: right;\n",
       "    }\n",
       "</style>\n",
       "<table border=\"1\" class=\"dataframe\">\n",
       "  <thead>\n",
       "    <tr style=\"text-align: right;\">\n",
       "      <th></th>\n",
       "      <th>000</th>\n",
       "      <th>10</th>\n",
       "      <th>100</th>\n",
       "      <th>101</th>\n",
       "      <th>104</th>\n",
       "      <th>10m</th>\n",
       "      <th>11</th>\n",
       "      <th>12</th>\n",
       "      <th>120</th>\n",
       "      <th>13</th>\n",
       "      <th>...</th>\n",
       "      <th>yoda</th>\n",
       "      <th>yoran</th>\n",
       "      <th>york</th>\n",
       "      <th>young</th>\n",
       "      <th>younger</th>\n",
       "      <th>youngsters</th>\n",
       "      <th>youth</th>\n",
       "      <th>zafi</th>\n",
       "      <th>zen</th>\n",
       "      <th>zombies</th>\n",
       "    </tr>\n",
       "  </thead>\n",
       "  <tbody>\n",
       "    <tr>\n",
       "      <th>0</th>\n",
<<<<<<< HEAD
       "      <td>0.0</td>\n",
       "      <td>0.0</td>\n",
       "      <td>0.0</td>\n",
=======
       "      <td>0.028940</td>\n",
       "      <td>0.066646</td>\n",
>>>>>>> 12467e3600c3f6b9373a65821d6283170bbb49be
       "      <td>0.0</td>\n",
       "      <td>0.0</td>\n",
       "      <td>0.0</td>\n",
       "      <td>0.0</td>\n",
       "      <td>0.000000</td>\n",
       "      <td>0.0</td>\n",
       "      <td>0.0</td>\n",
       "      <td>0.0</td>\n",
       "      <td>...</td>\n",
       "      <td>0.0</td>\n",
       "      <td>0.0</td>\n",
       "      <td>0.05528</td>\n",
       "      <td>0.058505</td>\n",
       "      <td>0.0</td>\n",
       "      <td>0.0</td>\n",
       "      <td>0.0</td>\n",
       "      <td>0.0</td>\n",
       "      <td>0.0</td>\n",
       "      <td>0.0</td>\n",
       "    </tr>\n",
       "    <tr>\n",
       "      <th>1</th>\n",
<<<<<<< HEAD
       "      <td>0.0</td>\n",
       "      <td>0.0</td>\n",
=======
       "      <td>0.000000</td>\n",
       "      <td>0.000000</td>\n",
>>>>>>> 12467e3600c3f6b9373a65821d6283170bbb49be
       "      <td>0.0</td>\n",
       "      <td>0.0</td>\n",
       "      <td>0.0</td>\n",
       "      <td>0.0</td>\n",
       "      <td>0.077901</td>\n",
       "      <td>0.0</td>\n",
       "      <td>0.0</td>\n",
       "      <td>0.0</td>\n",
       "      <td>...</td>\n",
       "      <td>0.0</td>\n",
       "      <td>0.0</td>\n",
       "      <td>0.00000</td>\n",
       "      <td>0.000000</td>\n",
       "      <td>0.0</td>\n",
       "      <td>0.0</td>\n",
       "      <td>0.0</td>\n",
       "      <td>0.0</td>\n",
       "      <td>0.0</td>\n",
       "      <td>0.0</td>\n",
       "    </tr>\n",
       "    <tr>\n",
       "      <th>2</th>\n",
<<<<<<< HEAD
       "      <td>0.0</td>\n",
       "      <td>0.0</td>\n",
       "      <td>0.0</td>\n",
=======
       "      <td>0.061896</td>\n",
       "      <td>0.000000</td>\n",
>>>>>>> 12467e3600c3f6b9373a65821d6283170bbb49be
       "      <td>0.0</td>\n",
       "      <td>0.0</td>\n",
       "      <td>0.0</td>\n",
       "      <td>0.0</td>\n",
       "      <td>0.000000</td>\n",
       "      <td>0.0</td>\n",
       "      <td>0.0</td>\n",
       "      <td>0.0</td>\n",
       "      <td>...</td>\n",
       "      <td>0.0</td>\n",
       "      <td>0.0</td>\n",
       "      <td>0.00000</td>\n",
       "      <td>0.000000</td>\n",
       "      <td>0.0</td>\n",
       "      <td>0.0</td>\n",
       "      <td>0.0</td>\n",
       "      <td>0.0</td>\n",
       "      <td>0.0</td>\n",
       "      <td>0.0</td>\n",
       "    </tr>\n",
       "    <tr>\n",
       "      <th>3</th>\n",
<<<<<<< HEAD
       "      <td>0.0</td>\n",
       "      <td>0.0</td>\n",
=======
       "      <td>0.000000</td>\n",
       "      <td>0.000000</td>\n",
>>>>>>> 12467e3600c3f6b9373a65821d6283170bbb49be
       "      <td>0.0</td>\n",
       "      <td>0.0</td>\n",
       "      <td>0.0</td>\n",
       "      <td>0.0</td>\n",
       "      <td>0.000000</td>\n",
       "      <td>0.0</td>\n",
       "      <td>0.0</td>\n",
       "      <td>0.0</td>\n",
       "      <td>...</td>\n",
       "      <td>0.0</td>\n",
       "      <td>0.0</td>\n",
       "      <td>0.00000</td>\n",
       "      <td>0.000000</td>\n",
       "      <td>0.0</td>\n",
       "      <td>0.0</td>\n",
       "      <td>0.0</td>\n",
       "      <td>0.0</td>\n",
       "      <td>0.0</td>\n",
       "      <td>0.0</td>\n",
       "    </tr>\n",
       "    <tr>\n",
       "      <th>4</th>\n",
<<<<<<< HEAD
       "      <td>0.0</td>\n",
       "      <td>0.0</td>\n",
=======
       "      <td>0.000000</td>\n",
       "      <td>0.000000</td>\n",
>>>>>>> 12467e3600c3f6b9373a65821d6283170bbb49be
       "      <td>0.0</td>\n",
       "      <td>0.0</td>\n",
       "      <td>0.0</td>\n",
       "      <td>0.0</td>\n",
       "      <td>0.000000</td>\n",
       "      <td>0.0</td>\n",
       "      <td>0.0</td>\n",
       "      <td>0.0</td>\n",
       "      <td>...</td>\n",
       "      <td>0.0</td>\n",
       "      <td>0.0</td>\n",
       "      <td>0.00000</td>\n",
       "      <td>0.000000</td>\n",
       "      <td>0.0</td>\n",
       "      <td>0.0</td>\n",
       "      <td>0.0</td>\n",
       "      <td>0.0</td>\n",
       "      <td>0.0</td>\n",
       "      <td>0.0</td>\n",
       "    </tr>\n",
       "  </tbody>\n",
       "</table>\n",
       "<p>5 rows × 5000 columns</p>\n",
       "</div>"
      ],
      "text/plain": [
<<<<<<< HEAD
       "    00  000  000s  0051  007   01  028  04m   05  0530  ...  zip  zodiac  \\\n",
       "0  0.0  0.0   0.0   0.0  0.0  0.0  0.0  0.0  0.0   0.0  ...  0.0     0.0   \n",
       "1  0.0  0.0   0.0   0.0  0.0  0.0  0.0  0.0  0.0   0.0  ...  0.0     0.0   \n",
       "2  0.0  0.0   0.0   0.0  0.0  0.0  0.0  0.0  0.0   0.0  ...  0.0     0.0   \n",
       "3  0.0  0.0   0.0   0.0  0.0  0.0  0.0  0.0  0.0   0.0  ...  0.0     0.0   \n",
       "4  0.0  0.0   0.0   0.0  0.0  0.0  0.0  0.0  0.0   0.0  ...  0.0     0.0   \n",
=======
       "        000        10  100  101  104  10m        11   12  120   13  ...  yoda  \\\n",
       "0  0.028940  0.066646  0.0  0.0  0.0  0.0  0.000000  0.0  0.0  0.0  ...   0.0   \n",
       "1  0.000000  0.000000  0.0  0.0  0.0  0.0  0.077901  0.0  0.0  0.0  ...   0.0   \n",
       "2  0.061896  0.000000  0.0  0.0  0.0  0.0  0.000000  0.0  0.0  0.0  ...   0.0   \n",
       "3  0.000000  0.000000  0.0  0.0  0.0  0.0  0.000000  0.0  0.0  0.0  ...   0.0   \n",
       "4  0.000000  0.000000  0.0  0.0  0.0  0.0  0.000000  0.0  0.0  0.0  ...   0.0   \n",
>>>>>>> 12467e3600c3f6b9373a65821d6283170bbb49be
       "\n",
       "   yoran     york     young  younger  youngsters  youth  zafi  zen  zombies  \n",
       "0    0.0  0.05528  0.058505      0.0         0.0    0.0   0.0  0.0      0.0  \n",
       "1    0.0  0.00000  0.000000      0.0         0.0    0.0   0.0  0.0      0.0  \n",
       "2    0.0  0.00000  0.000000      0.0         0.0    0.0   0.0  0.0      0.0  \n",
       "3    0.0  0.00000  0.000000      0.0         0.0    0.0   0.0  0.0      0.0  \n",
       "4    0.0  0.00000  0.000000      0.0         0.0    0.0   0.0  0.0      0.0  \n",
       "\n",
       "[5 rows x 5000 columns]"
      ]
     },
<<<<<<< HEAD
     "execution_count": 57,
=======
     "execution_count": 35,
>>>>>>> 12467e3600c3f6b9373a65821d6283170bbb49be
     "metadata": {},
     "output_type": "execute_result"
    }
   ],
   "source": [
    "from sklearn.feature_extraction.text import TfidfVectorizer\n",
    "\n",
    "# Instantiate vectorizer object\n",
    "tfidf = TfidfVectorizer(stop_words='english', max_features=5000)\n",
    "\n",
    "# Create a vocabulary and get word counts per document\n",
    "# Similiar to fit_predict\n",
    "dtm = tfidf.fit_transform(data)\n",
    "\n",
    "# Print word counts\n",
    "\n",
    "# Get feature names to use as dataframe column headers\n",
    "dtm = pd.DataFrame(dtm.todense(), columns=tfidf.get_feature_names())\n",
    "\n",
    "# View Feature Matrix as DataFrame\n",
    "dtm.head()"
   ]
  },
  {
   "cell_type": "code",
<<<<<<< HEAD
   "execution_count": 58,
=======
   "execution_count": 37,
>>>>>>> 12467e3600c3f6b9373a65821d6283170bbb49be
   "metadata": {},
   "outputs": [],
   "source": [
    "def tokenize(document):\n",
    "    \n",
    "    doc = nlp(document)\n",
    "    \n",
    "    return [token.lemma_.strip() for token in doc if (token.is_stop != True) and (token.is_punct != True)]"
   ]
  },
  {
   "cell_type": "markdown",
   "metadata": {},
   "source": [
    "text data machines\n",
    "\n",
    "\"text data\" \"data machines\" \"text machines\""
   ]
  },
  {
   "cell_type": "code",
   "execution_count": 25,
   "metadata": {},
   "outputs": [
    {
     "data": {
      "text/html": [
       "<div>\n",
       "<style scoped>\n",
       "    .dataframe tbody tr th:only-of-type {\n",
       "        vertical-align: middle;\n",
       "    }\n",
       "\n",
       "    .dataframe tbody tr th {\n",
       "        vertical-align: top;\n",
       "    }\n",
       "\n",
       "    .dataframe thead th {\n",
       "        text-align: right;\n",
       "    }\n",
       "</style>\n",
       "<table border=\"1\" class=\"dataframe\">\n",
       "  <thead>\n",
       "    <tr style=\"text-align: right;\">\n",
       "      <th></th>\n",
       "      <th>10</th>\n",
       "      <th>15</th>\n",
       "      <th>2004</th>\n",
       "      <th>50</th>\n",
       "      <th>ability</th>\n",
       "      <th>accord</th>\n",
       "      <th>add</th>\n",
       "      <th>airline</th>\n",
       "      <th>announce</th>\n",
       "      <th>anti</th>\n",
       "      <th>...</th>\n",
       "      <th>£ 11.5</th>\n",
       "      <th>£ 132</th>\n",
       "      <th>£ 2,000</th>\n",
       "      <th>£ 20</th>\n",
       "      <th>£ 339</th>\n",
       "      <th>£ 4.99</th>\n",
       "      <th>£ 40</th>\n",
       "      <th>£ 5</th>\n",
       "      <th>£ 50</th>\n",
       "      <th>£ 99</th>\n",
       "    </tr>\n",
       "  </thead>\n",
       "  <tbody>\n",
       "    <tr>\n",
       "      <th>0</th>\n",
       "      <td>0.0</td>\n",
       "      <td>0.0</td>\n",
       "      <td>0.000000</td>\n",
       "      <td>0.0</td>\n",
       "      <td>0.0</td>\n",
       "      <td>0.000000</td>\n",
       "      <td>0.0</td>\n",
       "      <td>0.0</td>\n",
       "      <td>0.0</td>\n",
       "      <td>0.0</td>\n",
       "      <td>...</td>\n",
       "      <td>0.0</td>\n",
       "      <td>0.0</td>\n",
       "      <td>0.066245</td>\n",
       "      <td>0.0</td>\n",
       "      <td>0.0</td>\n",
       "      <td>0.0</td>\n",
       "      <td>0.0</td>\n",
       "      <td>0.0</td>\n",
       "      <td>0.0</td>\n",
       "      <td>0.0</td>\n",
       "    </tr>\n",
       "    <tr>\n",
       "      <th>1</th>\n",
       "      <td>0.0</td>\n",
       "      <td>0.0</td>\n",
       "      <td>0.084281</td>\n",
       "      <td>0.0</td>\n",
       "      <td>0.0</td>\n",
       "      <td>0.073951</td>\n",
       "      <td>0.0</td>\n",
       "      <td>0.0</td>\n",
       "      <td>0.0</td>\n",
       "      <td>0.0</td>\n",
       "      <td>...</td>\n",
       "      <td>0.0</td>\n",
       "      <td>0.0</td>\n",
       "      <td>0.000000</td>\n",
       "      <td>0.0</td>\n",
       "      <td>0.0</td>\n",
       "      <td>0.0</td>\n",
       "      <td>0.0</td>\n",
       "      <td>0.0</td>\n",
       "      <td>0.0</td>\n",
       "      <td>0.0</td>\n",
       "    </tr>\n",
       "    <tr>\n",
       "      <th>2</th>\n",
       "      <td>0.0</td>\n",
       "      <td>0.0</td>\n",
       "      <td>0.000000</td>\n",
       "      <td>0.0</td>\n",
       "      <td>0.0</td>\n",
       "      <td>0.000000</td>\n",
       "      <td>0.0</td>\n",
       "      <td>0.0</td>\n",
       "      <td>0.0</td>\n",
       "      <td>0.0</td>\n",
       "      <td>...</td>\n",
       "      <td>0.0</td>\n",
       "      <td>0.0</td>\n",
       "      <td>0.000000</td>\n",
       "      <td>0.0</td>\n",
       "      <td>0.0</td>\n",
       "      <td>0.0</td>\n",
       "      <td>0.0</td>\n",
       "      <td>0.0</td>\n",
       "      <td>0.0</td>\n",
       "      <td>0.0</td>\n",
       "    </tr>\n",
       "    <tr>\n",
       "      <th>3</th>\n",
       "      <td>0.0</td>\n",
       "      <td>0.0</td>\n",
       "      <td>0.000000</td>\n",
       "      <td>0.0</td>\n",
       "      <td>0.0</td>\n",
       "      <td>0.000000</td>\n",
       "      <td>0.0</td>\n",
       "      <td>0.0</td>\n",
       "      <td>0.0</td>\n",
       "      <td>0.0</td>\n",
       "      <td>...</td>\n",
       "      <td>0.0</td>\n",
       "      <td>0.0</td>\n",
       "      <td>0.000000</td>\n",
       "      <td>0.0</td>\n",
       "      <td>0.0</td>\n",
       "      <td>0.0</td>\n",
       "      <td>0.0</td>\n",
       "      <td>0.0</td>\n",
       "      <td>0.0</td>\n",
       "      <td>0.0</td>\n",
       "    </tr>\n",
       "    <tr>\n",
       "      <th>4</th>\n",
       "      <td>0.0</td>\n",
       "      <td>0.0</td>\n",
       "      <td>0.000000</td>\n",
       "      <td>0.0</td>\n",
       "      <td>0.0</td>\n",
       "      <td>0.000000</td>\n",
       "      <td>0.0</td>\n",
       "      <td>0.0</td>\n",
       "      <td>0.0</td>\n",
       "      <td>0.0</td>\n",
       "      <td>...</td>\n",
       "      <td>0.0</td>\n",
       "      <td>0.0</td>\n",
       "      <td>0.000000</td>\n",
       "      <td>0.0</td>\n",
       "      <td>0.0</td>\n",
       "      <td>0.0</td>\n",
       "      <td>0.0</td>\n",
       "      <td>0.0</td>\n",
       "      <td>0.0</td>\n",
       "      <td>0.0</td>\n",
       "    </tr>\n",
       "  </tbody>\n",
       "</table>\n",
       "<p>5 rows × 8220 columns</p>\n",
       "</div>"
      ],
      "text/plain": [
       "    10   15      2004   50   ability    accord   add   airline   announce  \\\n",
       "0  0.0  0.0  0.000000  0.0       0.0  0.000000   0.0       0.0        0.0   \n",
       "1  0.0  0.0  0.084281  0.0       0.0  0.073951   0.0       0.0        0.0   \n",
       "2  0.0  0.0  0.000000  0.0       0.0  0.000000   0.0       0.0        0.0   \n",
       "3  0.0  0.0  0.000000  0.0       0.0  0.000000   0.0       0.0        0.0   \n",
       "4  0.0  0.0  0.000000  0.0       0.0  0.000000   0.0       0.0        0.0   \n",
       "\n",
       "    anti  ...  £ 11.5  £ 132   £ 2,000  £ 20  £ 339  £ 4.99  £ 40  £ 5  £ 50  \\\n",
       "0    0.0  ...     0.0    0.0  0.066245   0.0    0.0     0.0   0.0  0.0   0.0   \n",
       "1    0.0  ...     0.0    0.0  0.000000   0.0    0.0     0.0   0.0  0.0   0.0   \n",
       "2    0.0  ...     0.0    0.0  0.000000   0.0    0.0     0.0   0.0  0.0   0.0   \n",
       "3    0.0  ...     0.0    0.0  0.000000   0.0    0.0     0.0   0.0  0.0   0.0   \n",
       "4    0.0  ...     0.0    0.0  0.000000   0.0    0.0     0.0   0.0  0.0   0.0   \n",
       "\n",
       "   £ 99  \n",
       "0   0.0  \n",
       "1   0.0  \n",
       "2   0.0  \n",
       "3   0.0  \n",
       "4   0.0  \n",
       "\n",
       "[5 rows x 8220 columns]"
      ]
     },
     "execution_count": 25,
     "metadata": {},
     "output_type": "execute_result"
    }
   ],
   "source": [
    "# Tunning Parameters\n",
    "\n",
    "# Instantiate vectorizer object\n",
    "tfidf = TfidfVectorizer(stop_words='english', \n",
    "                        ngram_range=(1,2),\n",
    "                        max_df=.97,\n",
    "                        min_df=3,\n",
    "                        tokenizer=tokenize)\n",
    "\n",
    "# Create a vocabulary and get word counts per document\n",
    "dtm = tfidf.fit_transform(data) # Similiar to fit_predict\n",
    "\n",
    "# Print word counts\n",
    "\n",
    "# Get feature names to use as dataframe column headers\n",
    "dtm = pd.DataFrame(dtm.todense(), columns=tfidf.get_feature_names())\n",
    "\n",
    "# View Feature Matrix as DataFrame\n",
    "dtm.head()"
   ]
  },
  {
   "cell_type": "code",
   "execution_count": 26,
   "metadata": {},
   "outputs": [
    {
     "data": {
      "text/plain": [
       "(401, 8220)"
      ]
     },
     "execution_count": 26,
     "metadata": {},
     "output_type": "execute_result"
    }
   ],
   "source": [
    "dtm.shape"
   ]
  },
  {
   "cell_type": "markdown",
   "metadata": {},
   "source": [
    "## Challenge\n",
    "\n",
    "During this module's project assignment, you will transform data science job listings to vector representations for analysis downstream. "
   ]
  },
  {
   "cell_type": "markdown",
   "metadata": {},
   "source": [
    "# Query Documents by Similarity (Learn)\n",
    "<a id=\"p2\"></a>"
   ]
  },
  {
   "cell_type": "markdown",
   "metadata": {},
   "source": [
    "## Overview\n",
    "\n",
    "Have you ever considered how a search bar works? You may just think that search bars simply match your input text againist the documents. While there are many different mechanisms for the 'match', one of the most classic is to search by similarity. We will apply n-dimensional distance to measure similarity, and query for input and output. "
   ]
  },
  {
   "cell_type": "markdown",
   "metadata": {
    "toc-hr-collapsed": true
   },
   "source": [
    "## Follow Along"
   ]
  },
  {
   "cell_type": "markdown",
   "metadata": {},
   "source": [
    "### Cosine Similarity (Brute Force)"
   ]
  },
  {
   "cell_type": "code",
<<<<<<< HEAD
   "execution_count": 59,
=======
   "execution_count": 39,
>>>>>>> 12467e3600c3f6b9373a65821d6283170bbb49be
   "metadata": {},
   "outputs": [],
   "source": [
    "# Calculate Distance of TF-IDF Vectors\n",
    "from sklearn.metrics.pairwise import cosine_similarity\n",
    "\n",
    "dist_matrix  = cosine_similarity(dtm)"
   ]
  },
  {
   "cell_type": "code",
<<<<<<< HEAD
   "execution_count": 66,
=======
   "execution_count": 40,
>>>>>>> 12467e3600c3f6b9373a65821d6283170bbb49be
   "metadata": {},
   "outputs": [],
   "source": [
    "# Turn it into a DataFrame\n",
<<<<<<< HEAD
=======
    "\n",
>>>>>>> 12467e3600c3f6b9373a65821d6283170bbb49be
    "df = pd.DataFrame(dist_matrix)"
   ]
  },
  {
   "cell_type": "code",
<<<<<<< HEAD
   "execution_count": 69,
=======
   "execution_count": 41,
>>>>>>> 12467e3600c3f6b9373a65821d6283170bbb49be
   "metadata": {},
   "outputs": [
    {
     "data": {
      "text/html": [
       "<div>\n",
       "<style scoped>\n",
       "    .dataframe tbody tr th:only-of-type {\n",
       "        vertical-align: middle;\n",
       "    }\n",
       "\n",
       "    .dataframe tbody tr th {\n",
       "        vertical-align: top;\n",
       "    }\n",
       "\n",
       "    .dataframe thead th {\n",
       "        text-align: right;\n",
       "    }\n",
       "</style>\n",
       "<table border=\"1\" class=\"dataframe\">\n",
       "  <thead>\n",
       "    <tr style=\"text-align: right;\">\n",
       "      <th></th>\n",
       "      <th>0</th>\n",
       "      <th>1</th>\n",
       "      <th>2</th>\n",
       "      <th>3</th>\n",
       "      <th>4</th>\n",
       "      <th>5</th>\n",
       "      <th>6</th>\n",
       "      <th>7</th>\n",
       "      <th>8</th>\n",
       "      <th>9</th>\n",
       "      <th>...</th>\n",
       "      <th>391</th>\n",
       "      <th>392</th>\n",
       "      <th>393</th>\n",
       "      <th>394</th>\n",
       "      <th>395</th>\n",
       "      <th>396</th>\n",
       "      <th>397</th>\n",
       "      <th>398</th>\n",
       "      <th>399</th>\n",
       "      <th>400</th>\n",
       "    </tr>\n",
       "  </thead>\n",
       "  <tbody>\n",
       "    <tr>\n",
       "      <th>0</th>\n",
       "      <td>1.000000</td>\n",
       "      <td>0.031819</td>\n",
       "      <td>0.020449</td>\n",
       "      <td>0.011476</td>\n",
       "      <td>0.023867</td>\n",
       "      <td>0.004363</td>\n",
       "      <td>0.013138</td>\n",
       "      <td>0.034806</td>\n",
       "      <td>0.013214</td>\n",
       "      <td>0.011985</td>\n",
       "      <td>...</td>\n",
       "      <td>0.012545</td>\n",
       "      <td>0.018345</td>\n",
       "      <td>0.011760</td>\n",
       "      <td>0.015787</td>\n",
       "      <td>0.013899</td>\n",
       "      <td>0.027522</td>\n",
       "      <td>0.042706</td>\n",
       "      <td>0.016146</td>\n",
       "      <td>0.018485</td>\n",
       "      <td>0.009242</td>\n",
       "    </tr>\n",
       "    <tr>\n",
       "      <th>1</th>\n",
       "      <td>0.031819</td>\n",
       "      <td>1.000000</td>\n",
       "      <td>0.020074</td>\n",
       "      <td>0.036126</td>\n",
       "      <td>0.034766</td>\n",
       "      <td>0.023357</td>\n",
       "      <td>0.086423</td>\n",
       "      <td>0.063441</td>\n",
       "      <td>0.031314</td>\n",
       "      <td>0.020756</td>\n",
       "      <td>...</td>\n",
       "      <td>0.030448</td>\n",
       "      <td>0.028293</td>\n",
       "      <td>0.020288</td>\n",
       "      <td>0.031638</td>\n",
       "      <td>0.046586</td>\n",
       "      <td>0.009124</td>\n",
       "      <td>0.040105</td>\n",
       "      <td>0.035149</td>\n",
       "      <td>0.015958</td>\n",
       "      <td>0.016024</td>\n",
       "    </tr>\n",
       "    <tr>\n",
       "      <th>2</th>\n",
       "      <td>0.020449</td>\n",
       "      <td>0.020074</td>\n",
       "      <td>1.000000</td>\n",
       "      <td>0.011827</td>\n",
       "      <td>0.009516</td>\n",
       "      <td>0.007742</td>\n",
       "      <td>0.038562</td>\n",
       "      <td>0.110128</td>\n",
       "      <td>0.029454</td>\n",
       "      <td>0.004155</td>\n",
       "      <td>...</td>\n",
       "      <td>0.031945</td>\n",
       "      <td>0.031506</td>\n",
       "      <td>0.069980</td>\n",
       "      <td>0.044600</td>\n",
       "      <td>0.017401</td>\n",
       "      <td>0.094348</td>\n",
       "      <td>0.038284</td>\n",
       "      <td>0.231324</td>\n",
       "      <td>0.036022</td>\n",
       "      <td>0.004266</td>\n",
       "    </tr>\n",
       "    <tr>\n",
       "      <th>3</th>\n",
       "      <td>0.011476</td>\n",
       "      <td>0.036126</td>\n",
       "      <td>0.011827</td>\n",
       "      <td>1.000000</td>\n",
       "      <td>0.022307</td>\n",
       "      <td>0.015615</td>\n",
       "      <td>0.053024</td>\n",
       "      <td>0.032905</td>\n",
       "      <td>0.013000</td>\n",
       "      <td>0.010270</td>\n",
       "      <td>...</td>\n",
       "      <td>0.029327</td>\n",
       "      <td>0.043058</td>\n",
       "      <td>0.041863</td>\n",
       "      <td>0.026915</td>\n",
       "      <td>0.022451</td>\n",
       "      <td>0.011456</td>\n",
       "      <td>0.024874</td>\n",
       "      <td>0.021655</td>\n",
       "      <td>0.019767</td>\n",
       "      <td>0.013840</td>\n",
       "    </tr>\n",
       "    <tr>\n",
       "      <th>4</th>\n",
       "      <td>0.023867</td>\n",
       "      <td>0.034766</td>\n",
       "      <td>0.009516</td>\n",
       "      <td>0.022307</td>\n",
       "      <td>1.000000</td>\n",
       "      <td>0.022210</td>\n",
       "      <td>0.018798</td>\n",
       "      <td>0.020628</td>\n",
       "      <td>0.045341</td>\n",
       "      <td>0.025311</td>\n",
       "      <td>...</td>\n",
       "      <td>0.020756</td>\n",
       "      <td>0.027526</td>\n",
       "      <td>0.004693</td>\n",
       "      <td>0.023171</td>\n",
       "      <td>0.026955</td>\n",
       "      <td>0.020599</td>\n",
       "      <td>0.032933</td>\n",
       "      <td>0.025102</td>\n",
       "      <td>0.012572</td>\n",
       "      <td>0.045674</td>\n",
       "    </tr>\n",
       "  </tbody>\n",
       "</table>\n",
       "<p>5 rows × 401 columns</p>\n",
       "</div>"
      ],
      "text/plain": [
       "        0         1         2         3         4         5         6    \\\n",
       "0  1.000000  0.031819  0.020449  0.011476  0.023867  0.004363  0.013138   \n",
       "1  0.031819  1.000000  0.020074  0.036126  0.034766  0.023357  0.086423   \n",
       "2  0.020449  0.020074  1.000000  0.011827  0.009516  0.007742  0.038562   \n",
       "3  0.011476  0.036126  0.011827  1.000000  0.022307  0.015615  0.053024   \n",
       "4  0.023867  0.034766  0.009516  0.022307  1.000000  0.022210  0.018798   \n",
       "\n",
       "        7         8         9    ...       391       392       393       394  \\\n",
       "0  0.034806  0.013214  0.011985  ...  0.012545  0.018345  0.011760  0.015787   \n",
       "1  0.063441  0.031314  0.020756  ...  0.030448  0.028293  0.020288  0.031638   \n",
       "2  0.110128  0.029454  0.004155  ...  0.031945  0.031506  0.069980  0.044600   \n",
       "3  0.032905  0.013000  0.010270  ...  0.029327  0.043058  0.041863  0.026915   \n",
       "4  0.020628  0.045341  0.025311  ...  0.020756  0.027526  0.004693  0.023171   \n",
       "\n",
       "        395       396       397       398       399       400  \n",
       "0  0.013899  0.027522  0.042706  0.016146  0.018485  0.009242  \n",
       "1  0.046586  0.009124  0.040105  0.035149  0.015958  0.016024  \n",
       "2  0.017401  0.094348  0.038284  0.231324  0.036022  0.004266  \n",
       "3  0.022451  0.011456  0.024874  0.021655  0.019767  0.013840  \n",
       "4  0.026955  0.020599  0.032933  0.025102  0.012572  0.045674  \n",
       "\n",
       "[5 rows x 401 columns]"
      ]
     },
<<<<<<< HEAD
     "execution_count": 69,
=======
     "execution_count": 41,
     "metadata": {},
     "output_type": "execute_result"
    }
   ],
   "source": [
    "# Our Similarity Matrix is ? size \n",
    "df.shape"
   ]
  },
  {
   "cell_type": "code",
   "execution_count": 42,
   "metadata": {},
   "outputs": [
    {
     "data": {
      "text/plain": [
       "b'Mobiles rack up 20 years of use\\n\\nMobile phones in the UK are celebrating their 20th anniversary this'"
      ]
     },
     "execution_count": 42,
>>>>>>> 12467e3600c3f6b9373a65821d6283170bbb49be
     "metadata": {},
     "output_type": "execute_result"
    }
   ],
   "source": [
<<<<<<< HEAD
    "# Our Similarity Matrix is ? size \n",
    "df.head()"
=======
    "data[0][:100]"
>>>>>>> 12467e3600c3f6b9373a65821d6283170bbb49be
   ]
  },
  {
   "cell_type": "code",
<<<<<<< HEAD
   "execution_count": 70,
=======
   "execution_count": 43,
>>>>>>> 12467e3600c3f6b9373a65821d6283170bbb49be
   "metadata": {},
   "outputs": [
    {
     "data": {
      "text/plain": [
       "0    1.000000\n",
<<<<<<< HEAD
       "1    0.031819\n",
       "2    0.020449\n",
       "3    0.011476\n",
       "4    0.023867\n",
       "Name: 0, dtype: float64"
      ]
     },
     "execution_count": 70,
=======
       "1    0.075861\n",
       "2    0.042398\n",
       "3    0.011078\n",
       "4    0.055294\n",
       "Name: 0, dtype: float64"
      ]
     },
     "execution_count": 43,
>>>>>>> 12467e3600c3f6b9373a65821d6283170bbb49be
     "metadata": {},
     "output_type": "execute_result"
    }
   ],
   "source": [
    "# Each row is the similarity of one document to all other documents (including itself)\n",
    "df[0][:5]"
   ]
  },
  {
   "cell_type": "code",
<<<<<<< HEAD
   "execution_count": 86,
=======
   "execution_count": 48,
>>>>>>> 12467e3600c3f6b9373a65821d6283170bbb49be
   "metadata": {},
   "outputs": [
    {
     "data": {
      "text/plain": [
<<<<<<< HEAD
       "10     0.362607\n",
       "111    0.354122\n",
       "291    0.348820\n",
       "86     0.348820\n",
       "215    0.306645\n",
       "353    0.279734\n",
       "40     0.194655\n",
       "287    0.173533\n",
       "102    0.079151\n",
       "253    0.075181\n",
       "Name: 0, dtype: float64"
      ]
     },
     "execution_count": 86,
=======
       "297    0.296352\n",
       "300    0.290672\n",
       "92     0.266468\n",
       "381    0.242043\n",
       "63     0.236623\n",
       "Name: 0, dtype: float64"
      ]
     },
     "execution_count": 48,
>>>>>>> 12467e3600c3f6b9373a65821d6283170bbb49be
     "metadata": {},
     "output_type": "execute_result"
    }
   ],
   "source": [
    "# Grab the row\n",
    "df[df[0] < 1][0].sort_values(ascending=False)[:10]"
   ]
  },
  {
   "cell_type": "code",
   "execution_count": 78,
   "metadata": {},
   "outputs": [
    {
     "name": "stdout",
     "output_type": "stream",
     "text": [
      "b'EU software patent law faces axe\\n\\nThe European Parliament has thrown out a bill that would have allowed software to be patented.\\n\\nPoliticians unanimou'\n"
     ]
    }
   ],
   "source": [
    "print(data[0][:150])"
   ]
  },
  {
   "cell_type": "code",
<<<<<<< HEAD
   "execution_count": 89,
=======
   "execution_count": 45,
>>>>>>> 12467e3600c3f6b9373a65821d6283170bbb49be
   "metadata": {},
   "outputs": [
    {
     "name": "stdout",
     "output_type": "stream",
     "text": [
<<<<<<< HEAD
      "b'IBM frees 500 software patents\\n\\nComputer giant IBM says 500 of its software patents will be released into the open development community.\\n\\nThe move me'\n"
=======
      "b\"'Friends fear' with lost mobiles\\n\\nPeople are becoming so dependent on their mobile phones that one in three are concerned that losing their phone woul\"\n"
>>>>>>> 12467e3600c3f6b9373a65821d6283170bbb49be
     ]
    }
   ],
   "source": [
<<<<<<< HEAD
    "print(data[40][:150])"
=======
    "print(data[297][:150])"
>>>>>>> 12467e3600c3f6b9373a65821d6283170bbb49be
   ]
  },
  {
   "cell_type": "markdown",
   "metadata": {},
   "source": [
    "### NearestNeighbor (K-NN) \n",
    "\n",
    "To address the computational inefficiencies of the brute-force approach, a variety of tree-based data structures have been invented. In general, these structures attempt to reduce the required number of distance calculations by efficiently encoding aggregate distance information for the sample. The basic idea is that if point  is very distant from point , and point  is very close to point , then we know that points  and  are very distant, without having to explicitly calculate their distance. In this way, the computational cost of a nearest neighbors search can be reduced to  or better. This is a significant improvement over brute-force for large data.\n",
    "\n",
    "To address the inefficiencies of KD Trees in higher dimensions, the ball tree data structure was developed. Where KD trees partition data along Cartesian axes, ball trees partition data in a series of nesting hyper-spheres. This makes tree construction more costly than that of the KD tree, but results in a data structure which can be very efficient on highly structured data, even in very high dimensions.\n",
    "\n",
    "A ball tree recursively divides the data into nodes defined by a centroid  and radius , such that each point in the node lies within the hyper-sphere defined by  and . The number of candidate points for a neighbor search is reduced through use of the triangle inequality:\n",
    "\n",
    "With this setup, a single distance calculation between a test point and the centroid is sufficient to determine a lower and upper bound on the distance to all points within the node. Because of the spherical geometry of the ball tree nodes, it can out-perform a KD-tree in high dimensions, though the actual performance is highly dependent on the structure of the training data. In scikit-learn, ball-tree-based neighbors searches are specified using the keyword algorithm = 'ball_tree', and are computed using the class sklearn.neighbors.BallTree. Alternatively, the user can work with the BallTree class directly."
   ]
  },
  {
   "cell_type": "code",
<<<<<<< HEAD
   "execution_count": 90,
=======
   "execution_count": 49,
>>>>>>> 12467e3600c3f6b9373a65821d6283170bbb49be
   "metadata": {},
   "outputs": [
    {
     "data": {
      "text/html": [
       "<div>\n",
       "<style scoped>\n",
       "    .dataframe tbody tr th:only-of-type {\n",
       "        vertical-align: middle;\n",
       "    }\n",
       "\n",
       "    .dataframe tbody tr th {\n",
       "        vertical-align: top;\n",
       "    }\n",
       "\n",
       "    .dataframe thead th {\n",
       "        text-align: right;\n",
       "    }\n",
       "</style>\n",
       "<table border=\"1\" class=\"dataframe\">\n",
       "  <thead>\n",
       "    <tr style=\"text-align: right;\">\n",
       "      <th></th>\n",
<<<<<<< HEAD
       "      <th>00</th>\n",
       "      <th>000</th>\n",
       "      <th>000s</th>\n",
       "      <th>0051</th>\n",
       "      <th>007</th>\n",
       "      <th>01</th>\n",
       "      <th>028</th>\n",
       "      <th>04m</th>\n",
       "      <th>05</th>\n",
       "      <th>0530</th>\n",
       "      <th>...</th>\n",
       "      <th>zip</th>\n",
       "      <th>zodiac</th>\n",
       "      <th>zombie</th>\n",
       "      <th>zombies</th>\n",
       "      <th>zone</th>\n",
       "      <th>zonealarm</th>\n",
       "      <th>zones</th>\n",
       "      <th>zoom</th>\n",
       "      <th>zooms</th>\n",
       "      <th>zurich</th>\n",
=======
       "      <th>000</th>\n",
       "      <th>10</th>\n",
       "      <th>100</th>\n",
       "      <th>101</th>\n",
       "      <th>104</th>\n",
       "      <th>10m</th>\n",
       "      <th>11</th>\n",
       "      <th>12</th>\n",
       "      <th>120</th>\n",
       "      <th>13</th>\n",
       "      <th>...</th>\n",
       "      <th>yoda</th>\n",
       "      <th>yoran</th>\n",
       "      <th>york</th>\n",
       "      <th>young</th>\n",
       "      <th>younger</th>\n",
       "      <th>youngsters</th>\n",
       "      <th>youth</th>\n",
       "      <th>zafi</th>\n",
       "      <th>zen</th>\n",
       "      <th>zombies</th>\n",
>>>>>>> 12467e3600c3f6b9373a65821d6283170bbb49be
       "    </tr>\n",
       "  </thead>\n",
       "  <tbody>\n",
       "    <tr>\n",
       "      <th>0</th>\n",
<<<<<<< HEAD
       "      <td>0.0</td>\n",
=======
       "      <td>0.028940</td>\n",
       "      <td>0.066646</td>\n",
>>>>>>> 12467e3600c3f6b9373a65821d6283170bbb49be
       "      <td>0.0</td>\n",
       "      <td>0.0</td>\n",
       "      <td>0.0</td>\n",
       "      <td>0.0</td>\n",
<<<<<<< HEAD
       "      <td>0.0</td>\n",
       "      <td>0.0</td>\n",
       "      <td>0.0</td>\n",
       "      <td>0.0</td>\n",
       "      <td>0.0</td>\n",
       "      <td>...</td>\n",
       "      <td>0.0</td>\n",
       "      <td>0.0</td>\n",
       "      <td>0.0</td>\n",
       "      <td>0.0</td>\n",
       "      <td>0.0</td>\n",
       "      <td>0.0</td>\n",
       "      <td>0.0</td>\n",
       "      <td>0.0</td>\n",
       "      <td>0.0</td>\n",
       "      <td>0.0</td>\n",
       "    </tr>\n",
       "    <tr>\n",
       "      <th>1</th>\n",
=======
       "      <td>0.000000</td>\n",
       "      <td>0.0</td>\n",
       "      <td>0.0</td>\n",
       "      <td>0.0</td>\n",
       "      <td>...</td>\n",
       "      <td>0.0</td>\n",
       "      <td>0.0</td>\n",
       "      <td>0.05528</td>\n",
       "      <td>0.058505</td>\n",
       "      <td>0.0</td>\n",
       "      <td>0.0</td>\n",
       "      <td>0.0</td>\n",
       "      <td>0.0</td>\n",
       "      <td>0.0</td>\n",
       "      <td>0.0</td>\n",
       "    </tr>\n",
       "    <tr>\n",
       "      <th>1</th>\n",
       "      <td>0.000000</td>\n",
       "      <td>0.000000</td>\n",
>>>>>>> 12467e3600c3f6b9373a65821d6283170bbb49be
       "      <td>0.0</td>\n",
       "      <td>0.0</td>\n",
       "      <td>0.0</td>\n",
       "      <td>0.0</td>\n",
       "      <td>0.077901</td>\n",
       "      <td>0.0</td>\n",
       "      <td>0.0</td>\n",
       "      <td>0.0</td>\n",
<<<<<<< HEAD
       "      <td>0.0</td>\n",
       "      <td>0.0</td>\n",
       "      <td>0.0</td>\n",
       "      <td>0.0</td>\n",
       "      <td>...</td>\n",
=======
       "      <td>...</td>\n",
       "      <td>0.0</td>\n",
       "      <td>0.0</td>\n",
       "      <td>0.00000</td>\n",
       "      <td>0.000000</td>\n",
>>>>>>> 12467e3600c3f6b9373a65821d6283170bbb49be
       "      <td>0.0</td>\n",
       "      <td>0.0</td>\n",
       "      <td>0.0</td>\n",
       "      <td>0.0</td>\n",
       "      <td>0.0</td>\n",
       "      <td>0.0</td>\n",
<<<<<<< HEAD
       "      <td>0.0</td>\n",
       "      <td>0.0</td>\n",
       "      <td>0.0</td>\n",
       "      <td>0.0</td>\n",
       "    </tr>\n",
       "    <tr>\n",
       "      <th>2</th>\n",
=======
       "    </tr>\n",
       "    <tr>\n",
       "      <th>2</th>\n",
       "      <td>0.061896</td>\n",
       "      <td>0.000000</td>\n",
>>>>>>> 12467e3600c3f6b9373a65821d6283170bbb49be
       "      <td>0.0</td>\n",
       "      <td>0.0</td>\n",
       "      <td>0.0</td>\n",
       "      <td>0.0</td>\n",
<<<<<<< HEAD
       "      <td>0.0</td>\n",
       "      <td>0.0</td>\n",
       "      <td>0.0</td>\n",
       "      <td>0.0</td>\n",
       "      <td>0.0</td>\n",
       "      <td>0.0</td>\n",
       "      <td>...</td>\n",
       "      <td>0.0</td>\n",
       "      <td>0.0</td>\n",
       "      <td>0.0</td>\n",
       "      <td>0.0</td>\n",
=======
       "      <td>0.000000</td>\n",
       "      <td>0.0</td>\n",
       "      <td>0.0</td>\n",
       "      <td>0.0</td>\n",
       "      <td>...</td>\n",
       "      <td>0.0</td>\n",
       "      <td>0.0</td>\n",
       "      <td>0.00000</td>\n",
       "      <td>0.000000</td>\n",
>>>>>>> 12467e3600c3f6b9373a65821d6283170bbb49be
       "      <td>0.0</td>\n",
       "      <td>0.0</td>\n",
       "      <td>0.0</td>\n",
       "      <td>0.0</td>\n",
       "      <td>0.0</td>\n",
       "      <td>0.0</td>\n",
       "    </tr>\n",
       "    <tr>\n",
       "      <th>3</th>\n",
<<<<<<< HEAD
=======
       "      <td>0.000000</td>\n",
       "      <td>0.000000</td>\n",
>>>>>>> 12467e3600c3f6b9373a65821d6283170bbb49be
       "      <td>0.0</td>\n",
       "      <td>0.0</td>\n",
       "      <td>0.0</td>\n",
       "      <td>0.0</td>\n",
       "      <td>0.000000</td>\n",
       "      <td>0.0</td>\n",
       "      <td>0.0</td>\n",
       "      <td>0.0</td>\n",
<<<<<<< HEAD
       "      <td>0.0</td>\n",
       "      <td>0.0</td>\n",
       "      <td>0.0</td>\n",
       "      <td>0.0</td>\n",
       "      <td>...</td>\n",
       "      <td>0.0</td>\n",
       "      <td>0.0</td>\n",
=======
       "      <td>...</td>\n",
       "      <td>0.0</td>\n",
       "      <td>0.0</td>\n",
       "      <td>0.00000</td>\n",
       "      <td>0.000000</td>\n",
>>>>>>> 12467e3600c3f6b9373a65821d6283170bbb49be
       "      <td>0.0</td>\n",
       "      <td>0.0</td>\n",
       "      <td>0.0</td>\n",
       "      <td>0.0</td>\n",
       "      <td>0.0</td>\n",
       "      <td>0.0</td>\n",
<<<<<<< HEAD
       "      <td>0.0</td>\n",
       "      <td>0.0</td>\n",
       "    </tr>\n",
       "    <tr>\n",
       "      <th>4</th>\n",
       "      <td>0.0</td>\n",
=======
       "    </tr>\n",
       "    <tr>\n",
       "      <th>4</th>\n",
       "      <td>0.000000</td>\n",
       "      <td>0.000000</td>\n",
>>>>>>> 12467e3600c3f6b9373a65821d6283170bbb49be
       "      <td>0.0</td>\n",
       "      <td>0.0</td>\n",
       "      <td>0.0</td>\n",
       "      <td>0.0</td>\n",
<<<<<<< HEAD
       "      <td>0.0</td>\n",
       "      <td>0.0</td>\n",
       "      <td>0.0</td>\n",
       "      <td>0.0</td>\n",
       "      <td>0.0</td>\n",
       "      <td>...</td>\n",
       "      <td>0.0</td>\n",
       "      <td>0.0</td>\n",
       "      <td>0.0</td>\n",
       "      <td>0.0</td>\n",
=======
       "      <td>0.000000</td>\n",
       "      <td>0.0</td>\n",
       "      <td>0.0</td>\n",
       "      <td>0.0</td>\n",
       "      <td>...</td>\n",
       "      <td>0.0</td>\n",
       "      <td>0.0</td>\n",
       "      <td>0.00000</td>\n",
       "      <td>0.000000</td>\n",
>>>>>>> 12467e3600c3f6b9373a65821d6283170bbb49be
       "      <td>0.0</td>\n",
       "      <td>0.0</td>\n",
       "      <td>0.0</td>\n",
       "      <td>0.0</td>\n",
       "      <td>0.0</td>\n",
       "      <td>0.0</td>\n",
       "    </tr>\n",
       "  </tbody>\n",
       "</table>\n",
<<<<<<< HEAD
       "<p>5 rows × 11820 columns</p>\n",
       "</div>"
      ],
      "text/plain": [
       "    00  000  000s  0051  007   01  028  04m   05  0530  ...  zip  zodiac  \\\n",
       "0  0.0  0.0   0.0   0.0  0.0  0.0  0.0  0.0  0.0   0.0  ...  0.0     0.0   \n",
       "1  0.0  0.0   0.0   0.0  0.0  0.0  0.0  0.0  0.0   0.0  ...  0.0     0.0   \n",
       "2  0.0  0.0   0.0   0.0  0.0  0.0  0.0  0.0  0.0   0.0  ...  0.0     0.0   \n",
       "3  0.0  0.0   0.0   0.0  0.0  0.0  0.0  0.0  0.0   0.0  ...  0.0     0.0   \n",
       "4  0.0  0.0   0.0   0.0  0.0  0.0  0.0  0.0  0.0   0.0  ...  0.0     0.0   \n",
       "\n",
       "   zombie  zombies  zone  zonealarm  zones  zoom  zooms  zurich  \n",
       "0     0.0      0.0   0.0        0.0    0.0   0.0    0.0     0.0  \n",
       "1     0.0      0.0   0.0        0.0    0.0   0.0    0.0     0.0  \n",
       "2     0.0      0.0   0.0        0.0    0.0   0.0    0.0     0.0  \n",
       "3     0.0      0.0   0.0        0.0    0.0   0.0    0.0     0.0  \n",
       "4     0.0      0.0   0.0        0.0    0.0   0.0    0.0     0.0  \n",
       "\n",
       "[5 rows x 11820 columns]"
      ]
     },
     "execution_count": 90,
=======
       "<p>5 rows × 5000 columns</p>\n",
       "</div>"
      ],
      "text/plain": [
       "        000        10  100  101  104  10m        11   12  120   13  ...  yoda  \\\n",
       "0  0.028940  0.066646  0.0  0.0  0.0  0.0  0.000000  0.0  0.0  0.0  ...   0.0   \n",
       "1  0.000000  0.000000  0.0  0.0  0.0  0.0  0.077901  0.0  0.0  0.0  ...   0.0   \n",
       "2  0.061896  0.000000  0.0  0.0  0.0  0.0  0.000000  0.0  0.0  0.0  ...   0.0   \n",
       "3  0.000000  0.000000  0.0  0.0  0.0  0.0  0.000000  0.0  0.0  0.0  ...   0.0   \n",
       "4  0.000000  0.000000  0.0  0.0  0.0  0.0  0.000000  0.0  0.0  0.0  ...   0.0   \n",
       "\n",
       "   yoran     york     young  younger  youngsters  youth  zafi  zen  zombies  \n",
       "0    0.0  0.05528  0.058505      0.0         0.0    0.0   0.0  0.0      0.0  \n",
       "1    0.0  0.00000  0.000000      0.0         0.0    0.0   0.0  0.0      0.0  \n",
       "2    0.0  0.00000  0.000000      0.0         0.0    0.0   0.0  0.0      0.0  \n",
       "3    0.0  0.00000  0.000000      0.0         0.0    0.0   0.0  0.0      0.0  \n",
       "4    0.0  0.00000  0.000000      0.0         0.0    0.0   0.0  0.0      0.0  \n",
       "\n",
       "[5 rows x 5000 columns]"
      ]
     },
     "execution_count": 49,
>>>>>>> 12467e3600c3f6b9373a65821d6283170bbb49be
     "metadata": {},
     "output_type": "execute_result"
    }
   ],
   "source": [
    "dtm.head()"
   ]
  },
  {
   "cell_type": "code",
<<<<<<< HEAD
   "execution_count": 91,
=======
   "execution_count": 50,
>>>>>>> 12467e3600c3f6b9373a65821d6283170bbb49be
   "metadata": {},
   "outputs": [
    {
     "data": {
      "text/plain": [
       "NearestNeighbors(algorithm='kd_tree', leaf_size=30, metric='minkowski',\n",
       "                 metric_params=None, n_jobs=None, n_neighbors=5, p=2,\n",
       "                 radius=1.0)"
      ]
     },
<<<<<<< HEAD
     "execution_count": 91,
=======
     "execution_count": 50,
>>>>>>> 12467e3600c3f6b9373a65821d6283170bbb49be
     "metadata": {},
     "output_type": "execute_result"
    }
   ],
   "source": [
    "from sklearn.neighbors import NearestNeighbors\n",
    "\n",
    "# Fit on DTM\n",
    "nn = NearestNeighbors(n_neighbors=5, algorithm='kd_tree')\n",
    "nn.fit(dtm)"
   ]
  },
  {
   "cell_type": "code",
<<<<<<< HEAD
   "execution_count": 92,
=======
   "execution_count": 51,
>>>>>>> 12467e3600c3f6b9373a65821d6283170bbb49be
   "metadata": {},
   "outputs": [
    {
     "data": {
      "text/plain": [
<<<<<<< HEAD
       "(array([[0.        , 0.        , 1.12906421, 1.13655434, 1.14120982]]),\n",
       " array([[  0, 182,  10, 111,  86]]))"
      ]
     },
     "execution_count": 92,
=======
       "(array([[0.        , 0.        , 1.18629524, 1.19107356, 1.21122457]]),\n",
       " array([[  0,  62, 297, 300,  92]]))"
      ]
     },
     "execution_count": 51,
>>>>>>> 12467e3600c3f6b9373a65821d6283170bbb49be
     "metadata": {},
     "output_type": "execute_result"
    }
   ],
   "source": [
    "nn.kneighbors([dtm.iloc[0].values])"
   ]
  },
  {
   "cell_type": "code",
<<<<<<< HEAD
   "execution_count": 93,
   "metadata": {},
   "outputs": [
    {
     "data": {
      "text/plain": [
       "NearestNeighbors(algorithm='kd_tree', leaf_size=30, metric='minkowski',\n",
       "                 metric_params=None, n_jobs=None, n_neighbors=5, p=2,\n",
       "                 radius=1.0)"
      ]
     },
     "execution_count": 93,
     "metadata": {},
     "output_type": "execute_result"
    }
   ],
   "source": [
    "# Instantiate\n",
    "from sklearn.neighbors import NearestNeighbors\n",
    "\n",
    "# Fit on TF-IDF Vectors\n",
    "nn  = NearestNeighbors(n_neighbors=5, algorithm='kd_tree')\n",
    "nn.fit(dtm)"
   ]
  },
  {
   "cell_type": "code",
   "execution_count": 94,
=======
   "execution_count": 53,
>>>>>>> 12467e3600c3f6b9373a65821d6283170bbb49be
   "metadata": {},
   "outputs": [
    {
     "data": {
      "text/plain": [
<<<<<<< HEAD
       "(array([[0.        , 0.86425229, 0.96798486, 1.05209914, 1.06040747]]),\n",
       " array([[356, 170, 311,  43, 328]]))"
      ]
     },
     "execution_count": 94,
=======
       "(array([[0.        , 0.        , 0.84251433, 0.98845232, 1.03646417]]),\n",
       " array([[256,  12, 121, 155, 351]]))"
      ]
     },
     "execution_count": 53,
>>>>>>> 12467e3600c3f6b9373a65821d6283170bbb49be
     "metadata": {},
     "output_type": "execute_result"
    }
   ],
   "source": [
    "# Query Using kneighbors \n",
    "nn.kneighbors([dtm.iloc[256]])"
   ]
  },
  {
   "cell_type": "code",
<<<<<<< HEAD
   "execution_count": 95,
=======
   "execution_count": 54,
>>>>>>> 12467e3600c3f6b9373a65821d6283170bbb49be
   "metadata": {},
   "outputs": [
    {
     "data": {
      "text/plain": [
<<<<<<< HEAD
       "b'Nintendo adds media playing to DS\\n\\nNintendo is releasing an adapter for its DS handheld console so it can play music and video.\\n\\nThe add-on for the DS means people can download TV programmes, film cli'"
      ]
     },
     "execution_count": 95,
=======
       "b\"Sony PSP console hits US in March\\n\\nUS gamers will be able to buy Sony's PlayStation Portable from 24 March, but there is no news of a Europe debut.\\n\\nThe handheld console will go on sale for $250 (\\xc2\\xa313\""
      ]
     },
     "execution_count": 54,
>>>>>>> 12467e3600c3f6b9373a65821d6283170bbb49be
     "metadata": {},
     "output_type": "execute_result"
    }
   ],
   "source": [
    "data[256][:200]"
   ]
  },
  {
   "cell_type": "code",
<<<<<<< HEAD
   "execution_count": 96,
=======
   "execution_count": 55,
>>>>>>> 12467e3600c3f6b9373a65821d6283170bbb49be
   "metadata": {},
   "outputs": [
    {
     "data": {
      "text/plain": [
<<<<<<< HEAD
       "b'Nintendo DS aims to touch gamers\\n\\nThe mobile gaming industry is set to explode in 2005 with a number of high-profile devices offering a range of gaming and other features such as movie and music playb'"
      ]
     },
     "execution_count": 96,
=======
       "b\"Sony PSP handheld console hits US\\n\\nThe latest handheld gaming gadget, Sony's PlayStation Portable, goes on sale in the US on Thursday.\\n\\nThe entertainment device, which also stores images, music and vi\""
      ]
     },
     "execution_count": 55,
>>>>>>> 12467e3600c3f6b9373a65821d6283170bbb49be
     "metadata": {},
     "output_type": "execute_result"
    }
   ],
   "source": [
    "data[121][:200]"
   ]
  },
  {
   "cell_type": "code",
<<<<<<< HEAD
   "execution_count": 97,
=======
   "execution_count": 56,
>>>>>>> 12467e3600c3f6b9373a65821d6283170bbb49be
   "metadata": {},
   "outputs": [],
   "source": [
    "rndm_tech_article = [ \"\"\"\n",
    "Final Fantasy VII Remake and Marvel’s Avengers, two of this year’s major releases, have both been postponed. Square Enix, the publisher behind the titles, announced the news Tuesday morning.\n",
    "\n",
    "Avengers is being pushed back four months, with its new release date set for September 4. The arrival of Final Fantasy VII Remake has been bumped by one month, moving from March 3 to April 10.\n",
    "\n",
    "Delays for massive blockbuster games are common around this time of year. With the industry preparing for big, anticipated releases slated for spring, summer and the holidays, the news from Square Enix isn’t all that surprising. Early builds for Marvel’s Avengers received a mixed reception at E3 2019 and subsequent, similar events. Final Fantasy VII fans will likely have a critical eye when revisiting the classic, setting a high bar for developers to clear.\n",
    "\n",
    "Final Fantasy VII Remake is among The Washington Post's most anticipated games of 2020.\n",
    "\n",
    "“We are making this tough decision in order to give ourselves a few extra weeks to apply final polish to the game and to deliver you with the best possible experience,” wrote Final Fantasy VII Remake producer Yoshinori Kitase in a statement. “I, on behalf of the whole team, want to apologize to everyone, as I know this means waiting for the game just a little bit longer.”\n",
    "\n",
    "Marvel’s Avengers’s developer Crystal Dynamics released a similar statement, with studio co-heads Scot Amos and Ron Rosenberg citing “fine tuning and polishing” as the reason for the delay. “We will spend this additional development time focusing on fine tuning and polishing the game to the high standards our fans expect and deserve.”\n",
    "\n",
    "\"\"\"]\n"
   ]
  },
  {
   "cell_type": "code",
<<<<<<< HEAD
   "execution_count": 98,
=======
   "execution_count": 57,
>>>>>>> 12467e3600c3f6b9373a65821d6283170bbb49be
   "metadata": {},
   "outputs": [],
   "source": [
    "# Query for Sim of Random doc to BBC\n",
    "new = tfidf.transform(rndm_tech_article)"
   ]
  },
  {
   "cell_type": "code",
<<<<<<< HEAD
   "execution_count": 99,
=======
   "execution_count": 58,
>>>>>>> 12467e3600c3f6b9373a65821d6283170bbb49be
   "metadata": {},
   "outputs": [
    {
     "data": {
      "text/plain": [
<<<<<<< HEAD
       "<1x11820 sparse matrix of type '<class 'numpy.float64'>'\n",
       "\twith 54 stored elements in Compressed Sparse Row format>"
      ]
     },
     "execution_count": 99,
=======
       "<1x5000 sparse matrix of type '<class 'numpy.float64'>'\n",
       "\twith 97 stored elements in Compressed Sparse Row format>"
      ]
     },
     "execution_count": 58,
>>>>>>> 12467e3600c3f6b9373a65821d6283170bbb49be
     "metadata": {},
     "output_type": "execute_result"
    }
   ],
   "source": [
    "new"
   ]
  },
  {
   "cell_type": "code",
<<<<<<< HEAD
   "execution_count": 100,
=======
   "execution_count": 59,
>>>>>>> 12467e3600c3f6b9373a65821d6283170bbb49be
   "metadata": {},
   "outputs": [
    {
     "data": {
      "text/plain": [
<<<<<<< HEAD
       "(array([[1.32820315, 1.33396655, 1.33850916, 1.35402838, 1.35642948]]),\n",
       " array([[216, 123, 391,  79,  30]]))"
      ]
     },
     "execution_count": 100,
=======
       "(array([[1.31649449, 1.32114904, 1.32573222, 1.32726235, 1.33311102]]),\n",
       " array([[140, 241, 322,  55, 368]]))"
      ]
     },
     "execution_count": 59,
>>>>>>> 12467e3600c3f6b9373a65821d6283170bbb49be
     "metadata": {},
     "output_type": "execute_result"
    }
   ],
   "source": [
    "nn.kneighbors(new.todense())"
   ]
  },
  {
   "cell_type": "code",
<<<<<<< HEAD
   "execution_count": 102,
=======
   "execution_count": 60,
>>>>>>> 12467e3600c3f6b9373a65821d6283170bbb49be
   "metadata": {},
   "outputs": [
    {
     "data": {
      "text/plain": [
<<<<<<< HEAD
       "b'Google\\'s toolbar sparks concern\\n\\nSearch engine firm Google has released a trial tool which is concerning some net users because it directs people to pre-selected commercial websites.\\n\\nThe AutoLink feature comes with Google\\'s latest toolbar and provides links in a webpage to Amazon.com if it finds a book\\'s ISBN number on the site. It also links to Google\\'s map service, if there is an address, or to car firm Carfax, if there is a licence plate. Google said the feature, available only in the US, \"adds useful links\". But some users are concerned that Google\\'s dominant position in the search engine market place could mean it would be giving a competitive edge to firms like Amazon.\\n\\nAutoLink works by creating a link to a website based on information contained in a webpage - even if there is no link specified and whether or not the publisher of the page has given permission.\\n\\nIf a user clicks the AutoLink feature in the Google toolbar then a webpage with a book\\'s unique ISBN number would link directly to Amazon\\'s website. It could mean online libraries that list ISBN book numbers find they are directing users to Amazon.com whether they like it or not. Websites which have paid for advertising on their pages may also be directing people to rival services. Dan Gillmor, founder of Grassroots Media, which supports citizen-based media, said the tool was a \"bad idea, and an unfortunate move by a company that is looking to continue its hypergrowth\". In a statement Google said the feature was still only in beta, ie trial, stage and that the company welcomed feedback from users. It said: \"The user can choose never to click on the AutoLink button, and web pages she views will never be modified. \"In addition, the user can choose to disable the AutoLink feature entirely at any time.\"\\n\\nThe new tool has been compared to the Smart Tags feature from Microsoft by some users. It was widely criticised by net users and later dropped by Microsoft after concerns over trademark use were raised. Smart Tags allowed Microsoft to link any word on a web page to another site chosen by the company. Google said none of the companies which received AutoLinks had paid for the service. Some users said AutoLink would only be fair if websites had to sign up to allow the feature to work on their pages or if they received revenue for any \"click through\" to a commercial site. Cory Doctorow, European outreach coordinator for digital civil liberties group Electronic Fronter Foundation, said that Google should not be penalised for its market dominance. \"Of course Google should be allowed to direct people to whatever proxies it chooses. \"But as an end user I would want to know - \\'Can I choose to use this service?, \\'How much is Google being paid?\\', \\'Can I substitute my own companies for the ones chosen by Google?\\'.\" Mr Doctorow said the only objection would be if users were forced into using AutoLink or \"tricked into using the service\".\\n'"
      ]
     },
     "execution_count": 102,
=======
       "b'Losing yourself in online gaming\\n\\nOnline role playing games are time-consuming, but enthralling flights from reality. But are some people taking their fantasy lives too seriously?\\n\\nWhen video game World of Warcraft hit the shops in Europe last week fans wrote in to the BBC website to express their delight - and to offer a warning. \"An addiction to a game like this is far more costly in time than any substance could impair - keep track of time,\" wrote Travis Anderson, in Texas. Some of the comments were humorous: \"This game is so good I\\'m not going to get it, there\\'s no way I could limit the hours I\\'d spend playing it,\" wrote Charles MacIntyre, from England.\\n\\nBut some struck a more worrying tone about the Massively Multiplayer Online Role Playing Game (MMORPG): \"\\'You need to get out more\\' could be the motto of any MMORPG. Shame they are getting more popular, as you know this problem is just going to mushroom,\" wrote Stuart Stanton-Davies, in Huddersfield. Scare-mongering articles about \"addictive video games\" have existed since the days the first game of Pong stopped everyone from working at the Atari offices.\\n\\nGaming is like any other pastime - it can quickly become an unhealthy obsession, whether it is spending too much time in the gym, in front of the television, or reading poetry.\\n\\nUnfortunately, gaming and addiction is a far too easy association to make. However, stories about gamers spending 10 to 15 hours a day in front of some video games are becoming more frequent. And the impact that is having on their families is quite distressing for some.\\n\\nMassively multiplayer online role playing games - MMORPGs - allow thousands of gamers to share a common experience of sharing fantasy or science fiction worlds. The scope of these games - like Warcraft, EverQuest, Ultima among others - is epic, and exploration and adventure is almost infinite. Part of the \"problem\" is grinding - by which gamers have to perform long-winded, mindless tasks, to bring up their levels and gain access to more adventure. Such open-endedness brings with it a desire to keep playing; not for no reason is EverQuest (EQ) nicknamed EverCrack. E Hayot, writing in the culture blogzine Print Culture, said recently: \"I used to play the online role-playing game EverQuest a lot. \"By \\'a lot\\', I mean probably 15 to 20 hours a week on average, and on weeks where I didn\\'t have to work, as many as 30 or 40 hours.\"\\n\\nHe says that in the world of online gaming such behaviour \"wasn\\'t that unusual; lots of people I knew in the game played EQ that much\". \"You lie; you don\\'t go into work because you \"had stuff to do at home\"; you cancel or refuse invitations to dinner, you spend much less time watching TV (a good thing, presumably),\" he wrote, explaining how EverQuest took over his time. He quit the game, he says, because he realised life was more fun than EverQuest.\\n\\nLet us be clear - such obsession is rare. But the huge growth in online gaming means a growth in the numbers of people who take their passion for a hobby too far. Almost 400,000 people bought a copy of World of Warcraft in the first two days on sale earlier this month. Only a fraction will descend into obsessives. The thoughts of families and friends of gamers who have been affected by EverQuest can be found on one blog EverQuest Daily Grind. Jane, who runs the website, compiles a chronicle of heart-rending stories. \"I am actually convinced at this point that there are more than \\'some\\' people who spend more times in MMOPRGs than in reality,\" she said. One unnamed correspondent - all are anonymous - wrote: \"On the rare nights when my husband does come to bed at the same time as I do, I find that I am so used to sleeping by myself that it is difficult to get to sleep with another body laying next to me.\\n\\n\"I can\\'t talk to him while he is playing. There is absolutely no point as he doesn\\'t hear me or is so distracted that I get a \\'ummm... ya\\' a few minutes after I ask him a question.\"\\n\\n\"Gaming widows\" has become a comedic term for women who have been shut out by male gamers. But for some it is not in the least funny. Another correspondent wrote: \"I believe that he is addicted to the online gaming, and that is the cause of his depression and restlessness.\" And some of them are even sadder: \"Today our son was five days old. \"The sad truth is my husband spent 11 hours today playing his Warcraft game. He did not interact with our sweet tiny baby because there were important quests waiting online.\" Video game fans often complain that their hobby is misunderstood or marginalised. But as gaming becomes ever more mainstream, and games ever more immersive, there will be no hiding place for social problems.\\n\\n\\n\\nI wish 30-40 hours a week was unusual but I think it probably isn\\'t. An 11 hour stretch isn\\'t that surprising - I\\'ve known people to play 15+ hours at a stretch. I know of people who are spending their week\\'s holiday from work playing Warcraft. I know of people who would play Ever[Crack] in shifts...waking at 3am to take over from their friends and resume waiting for an item they \\'needed\\' to appear. I understand that the key sign of an addiction is if you alter your life around it rather than fit it into your life. By all standards many of us are addicts. So is the solution to force ourselves to stop playing..or do we just need to make real life a bit more interesting?\\n\\nSadly with all the talk of people becoming obsessed with gaming, I find myself longing to have the time to join them. I have been in a long term relationship for over 4 years - since that began, games have become more and more complex. And more and more so I find I have less and less time to play them, with and marriage and work being the main drag on my time.\\n\\nI think the line between playing a game a lot and a gaming addiction is really quite distinct. I play games a lot, definately over 20 hours a week, but I don\\'t go missing work or other commitments in order to play games.\\n\\nI have, about a year ago, deleted every game on my computer. RPGs are the worst - the real world fades and all your worries sorround a new magic staff or mighty sword. Unlike books, or perhaps even TV, you gain absolutely nothing. When you stop playing you\\'re at the same point as when you started; all the achievements of your 10 hour session are irretrievably locked in the game and, since you\\'ve gained nothing in the real world, you may as well pile on more achievement in the fake one.\\n\\nDespite having little monetary value, the \"rewards\" and encouragement offered by these MMORPGs is enough to hook games for hours daily. If only business could learn to leverage that very simply human need for easily measurable progress and recognition. Perhaps the unhealthily obsessed simply need more recognition for their achievements in reality?\\n\\nMy advice to gaming widows is \"if you can\\'t beat \\'em, join \\'em\". That is, try playing it yourself. If he wants to play as well, well at least you\\'ll be together somewhere...\\n\\nI was an addict and it cost me my relationship. I still play now, but without the guilt , hehe, How long have i played in one sitting? From morning till the early hours of the next day, the birds were singing out side and i had to hobble to the bath room cos my bladder was so full i was in pain, i would hardly eat, perhaps some toast, smoke endlessly and drink. Now, thankfully the fascination has worn off and I have a girlfriend but still no job. For the most part online gaming give me an adiction to illusory achievement, and as there is no end in sight you keep going for the mirage of the ultimate.\\n\\nObsessive behaviour is, of course, always cause for concern, but it always bothers me when articles about gaming talk in terms of \"reality\". Obviously, somebody who spends thirty hours a week playing EverQuest has a problem. This problem, however, has nothing to do with a dysfunctional sense of reality. An obsessive EQ player does not consider the game to be \"real\" any more than - for example - an obsessive automotive tinkerer considers their car to be human. If MMORPGs have a unique danger, in terms of encouraging obsessive behaviour, it is not that they create an absorbing virtual world, but rather that they can be easily accessed 24/7. The problem here does not lie with the nature of gaming, but with the nature of modern 24 hour culture.\\n\\nThe problem with these so called MMORPGS is that you can never really complete them, there\\'s always another quest to do. A few of my friends have only had about 10 hours sleep since it was released friday...\\n\\nChampionship Manager consumed my life for years. One particular session started at about 2pm on a Sunday, paused for a brief sleep at 5am on the Monday and after visit to University for classes restarted at about midday for another 10 hour session. The people who tend to hark on about about the problems of \"hardcore gaming\" seem to be those who have rarely allowed themselves to become immersed in a game. I would expect their perspective to change if they were to do that.\\n\\nI used to be an EverQuest addict while I was in college. It came to the point where the gaming world felt more real than the real one. I failed alot of my courses and was able to barely graduate. I was lucky that I came to my senses when I did, others were less fortunate and dropped out of college. Now that I am holding a job, I avoid online RPGS like the plague.\\n\\nWhen I was made redundant I told my partner I had a new job for three months whilst every day I played EverQuest from 7:30am till 5:pm. When She came home I pretended I had just got in as well, hence justifying playing it all evening. I have since quit playing MMORPG and have a good job.\\n\\nWhen I got to the point where I was eating my dinner in front of the PC I realised things were getting silly so I\\'m trying not to spend so much time on there. It\\'s not easy. I feel as if I\\'ve got a real addiction going on here.\\n\\nFor me the problem is that I love to complete a goal. Once it is completed that is it, I am finished, time to move on. I become obsessed to complete the goal, so from that standpoint it is an addiction. In a game where you will never complete an \"ultimate\" goal, well it would be like falling into a black pit. It is easier to escape into a controlled fantasy world than face reality at times - in other words the goal offered in the PC game are \"easier\" and more fun than the real world. Pretty scary implications if you think about it.\\n\\nI can\\'t buy World of Warcraft as it would destroy my marrage, I just know it!!\\n\\nI played Star Wars Galaxies for about a year and can attest to the addictiveness of these games. They are all engineered in such a way that early on in the game you progress quickly, but this progress becomes exponentially slower, requiring more and more time to reach the next level. I\\'m sad to say that at the peak of my addiction I was spending entire weekends in front of my monitor, slowly building up my character, stopping only for food and toilet breaks. Thankfully I made a clean break, and actually managed to sell my Jedi account for \\xc2\\xa3800 - which is my only sanity check in an otherwise completely unproductive time vacuum.\\n\\nSeven years ago, I began playing Ultima Online. This game dominated 2 years of my life. They were 2 wonderful years and I still have vivid memories of the experiences and friends I had. Online gaming can be a world of escapism where you can be yourself without fear of the thoughts of others. Something that cannot always be achieved in the day to day running of a normal life. Whilst I would warn against people giving to much of there life to these games, I believe they are a better way to spend your time than say watching TV.\\n\\nGaming is addictive and should be made a recognised addiction. When I was single I used to play upto eight hours a night after work every night for about a year, building up my stats, completing evermore quests and battling ogres. But somehow I found time to get out, even met someone and got married! Has my life changed? Hell no! I still cast spells and battle till the early hours of the morning. On with the fun!\\n\\nOnline gaming should be enjoyed just as much as you would enjoy watching television, or going to the cinema or the pub with your mates.\\n\\nMany people use recreational drugs on an occasional basis and are able to lead succesfull lives with families, relationships and good careers. A minority allow drugs to take over and destroy their lives and become addicted. According to this article the same is true of MMORPGs. The message to the government is clear, either legalise drugs, or outlaw online gaming!!\\n\\nSounds like there are some sad stories here - and I can believe them all. I play alot of Warcraft myself, and know full well how addictive it is. I am resolute that it will not take over my life. It certainly gets in the way though. I think that some people simply do not know how to draw this line, or lack the willpower to stop themselves stepping over it.\\n\\nI think I\\'m obsessed with gaming in general, I spend far too much time playing games like Everquest 2 and Football Manager rather than going out and interacting with real people and when I do try to, I\\'m always thinking in the back if my mind that I\\'d rather be in front of the computer winning the league with Cambridge United.\\n\\nI am obsessed with online role playing games. It\\'s not so much quests but it has the adrenaline of a real life situation - goals to achieve etc. I spend about five hours per day online playing it and I rarely get more than four to five hours sleep before getting up for work the next morning...\\n\\nAs many of the players spend their time in MMORPGs rather than in front of the TV I fail to see how it will affect players social lives negatively. Furthermore these types of games contain a huge social aspect, whereas other games and some other pursuits (such as being a couch potato) the players could be indulging in are solitary by nature.\\n\\nThese games are like most things -- too much of anything is a bad thing, but as long as you can walk away from the computer to do other things too, they can be great fun.\\n\\nLiving in Korea at the moment, they have lots PC Bangs (Internet Cafes). Nearly most of South Koreans are addicted to online games, and one Korean died because of the lack of food and water he had through playing online games.\\n\\nI play xbox live every day. I find my self lying and rescheduling everything around my gaming fix. The longest I played was a 24 hour straight session. I know I play for to long but it\\'s an obsession that I can\\'t control. Can you reccomend a counsellor - this is not a wind up... but something I\\'m increasingly concerned with...\\n\\nMe and my mate play online for an hour or two a day, we\\'re both aware of how much time can disappear by sitting in front of a TV, trying to \\'frag\\' some individual. It\\'s getting the balance between getting home and relasing the stress of a day by an hour or so gaming, and enjoying \\'real\\' life...\\n\\nI bought the US version of World of Warcraft when it came out. The longest period I played was 23 hrs straight. I gave up the game after a month because it was so addictive, but have subsequently just bought the European version (couldn\\'t help myself). In future, I\\'m going to regulate my time far more strictly. Great game!\\n\\nHaving played MMORPG games for some years I agree that these type of games can be life sucking. But my concern is for the younger generation of gamers that play for hours on end in an adult enviroment. Most MMORPG games you need a credit card to play but I dont think parents know just what they are letting there children into.\\n\\nUnless there is undeniable medical proof that staring at a computer screens for hours at a time can damage a person&#191;s health, you can expect this not to decline but to get worse.\\n\\nThese people are pathetic. They need to get off their machines and notice that our world is being swiftly overcome by issues and troubles that make the trifling worries of and \"online universe\" absolutely meaningless.\\n\\n24hours, when i was a kid at school and i was on half term, Ultima Online was the game, ahhhh them was the days ! LOL\\n'"
      ]
     },
     "execution_count": 60,
>>>>>>> 12467e3600c3f6b9373a65821d6283170bbb49be
     "metadata": {},
     "output_type": "execute_result"
    }
   ],
   "source": [
    "# Inspect Most relevant result\n",
<<<<<<< HEAD
    "data[123]"
=======
    "data[140]"
>>>>>>> 12467e3600c3f6b9373a65821d6283170bbb49be
   ]
  },
  {
   "cell_type": "markdown",
   "metadata": {},
   "source": [
    "## Challenge\n",
    "\n",
    "In the module project assignment, you will apply one of these search techniques to retrieve documents related to a query document. "
   ]
  },
  {
   "cell_type": "markdown",
   "metadata": {},
   "source": [
    "# Apply word embedding models to create document vectors (Learn)\n",
    "<a id=\"p3\"></a>"
   ]
  },
  {
   "cell_type": "markdown",
   "metadata": {},
   "source": [
    "## Overview\n",
    "### BoW discards textual context\n",
    "\n",
    "One of the limitations of Bag-of-Words approaches is that any information about the textual context surrounding that word is lost. This also means that with bag-of-words approaches often the only tools that we have for identifying words with similar usage or meaning and subsequently consolidating them into a single vector is through the processes of stemming and lemmatization which tend to be quite limited at consolidating words unless the two words are very close in their spelling or in their root parts-of-speech.\n",
    "\n",
    "### Embedding approaches preserve more textual context\n",
    "Word2Vec is an increasingly popular word embedding technique. Like Bag-of-words it learns a real-value vector representation for a predefined fixed-size vocabulary that is generated from a corpus of text. However, in contrast to BoW, Word2Vec approaches are much more capable of accounting for textual context, and are better at discovering words with similar meanings or usages (semantic or syntactic similarity).\n",
    "\n",
    "### Word2Vec Intuition\n",
    "### The Distribution Hypothesis\n",
    "\n",
    "In order to understand how Word2Vec preserves textual context we have to understand what's called the Distribution Hypothesis (Reference: Distribution Hypothesis Theory  -https://en.wikipedia.org/wiki/Distributional_semantics. The Distribution Hypothesis operates under the assumption that words that have similar contexts will have similar meanings. Practically speaking, this means that if two words are found to have similar words both to the right and to the left of them throughout the corpora then those words have the same context and are assumed to have the same meaning. \n",
    "\n",
    "> \"You shall know a word by the company it keeps\" - John Firth\n",
    "\n",
    "This means that we let the usage of a word define its meaning and its \"similarity\" to other words. In the following example, which words would you say have a similar meaning? \n",
    "\n",
    "**Sentence 1**: Traffic was light today\n",
    "\n",
    "**Sentence 2**: Traffic was heavy yesterday\n",
    "\n",
    "**Sentence 3**: Prediction is that traffic will be smooth-flowing tomorrow since it is a national holiday\n",
    "\n",
    "What words in the above sentences seem to have a similar meaning if all you knew about them was the context in which they appeared above? \n",
    "\n",
    "Lets take a look at how this might work in action, the following example is simplified, but will give you an idea of the intuition for how this works.\n",
    "\n",
    "#### Corpora:\n",
    "\n",
    "1) \"It was the sunniest of days.\"\n",
    "\n",
    "2) \"It was the raniest of days.\"\n",
    "\n",
    "#### Vocabulary:\n",
    "\n",
    "{\"it\": 1, \"was\": 2, \"the\": 3, \"of\": 4, \"days\": 5, \"sunniest\": 6, \"raniest\": 7}\n",
    "\n",
    "### Vectorization\n",
    "\n",
    "|       doc   | START_was | it_the | was_sunniest | the_of | sunniest_days | of_it | days_was | it_the | was_raniest | raniest_days | of_END |\n",
    "|----------|-----------|--------|--------------|--------|---------------|-------|----------|--------|-------------|--------------|--------|\n",
    "| it       | 1         | 0      | 0            | 0      | 0             | 0     | 1        | 0      | 0           | 0            | 0      |\n",
    "| was      | 0         | 1      | 0            | 0      | 0             | 0     | 0        | 1      | 0           | 0            | 0      |\n",
    "| the      | 0         | 0      | 1            | 0      | 0             | 0     | 0        | 0      | 1           | 0            | 0      |\n",
    "| sunniest | 0         | 0      | 0            | 1      | 0             | 0     | 0        | 0      | 0           | 0            | 0      |\n",
    "| of       | 0         | 0      | 0            | 0      | 1             | 0     | 0        | 0      | 0           | 1            | 0      |\n",
    "| days     | 0         | 0      | 0            | 0      | 0             | 0     | 0        | 0      | 0           | 0            | 1      |\n",
    "| raniest  | 0         | 0      | 0            | 1      | 0             | 0     | 0        | 0      | 0           | 0            | 0      |\n",
    "\n",
    "Each column vector represents the word's context -in this case defined by the words to the left and right of the center word. How far we look to the left and right of a given word is referred to as our \"window of context.\" Each row vector represents the the different usages of a given word. Word2Vec can consider a larger context than only words that are immediately to the left and right of a given word, but we're going to keep our window of context small for this example. What's most important is that this vectorization has translated our documents from a text representation to a numeric one in a way that preserves information about the underlying context. \n",
    "\n",
    "We can see that words that have a similar context will have similar row-vector representations, but before looking that more in-depth, lets simplify our vectorization slightly. You'll notice that we're repeating the column-vector \"it_the\" twice. Lets combine those into a single vector by adding them element-wise. \n",
    "\n",
    "|       *   | START_was | it_the | was_sunniest | the_of | sunniest_days | of_it | days_was | was_raniest | raniest_days | of_END |\n",
    "|----------|-----------|--------|--------------|--------|---------------|-------|----------|-------------|--------------|--------|\n",
    "| it       | 1         | 0      | 0            | 0      | 0             | 0     | 1        | 0           | 0            | 0      |\n",
    "| was      | 0         | 2      | 0            | 0      | 0             | 0     | 0        | 0           | 0            | 0      |\n",
    "| the      | 0         | 0      | 1            | 0      | 0             | 0     | 0        | 1           | 0            | 0      |\n",
    "| sunniest | 0         | 0      | 0            | 1      | 0             | 0     | 0        | 0           | 0            | 0      |\n",
    "| of       | 0         | 0      | 0            | 0      | 1             | 0     | 0        | 0           | 1            | 0      |\n",
    "| days     | 0         | 0      | 0            | 0      | 0             | 0     | 0        | 0           | 0            | 1      |\n",
    "| raniest  | 0         | 0      | 0            | 1      | 0             | 0     | 0        | 0           | 0            | 0      |\n",
    "\n",
    "Now, can you spot which words have a similar row-vector representation? Hint: Look for values that are repeated in a given column. Each column represents the context that word was found in. If there are multiple words that share a context then those words are understood to have a closer meaning with each other than with other words in the text.\n",
    "\n",
    "Lets look specifically at the words sunniest and raniest. You'll notice that these two words have exactly the same 10-dimensional vector representation. Based on this very small corpora of text we would conclude that these two words have the same meaning because they share the same usage. Is this a good assumption? Well, they are both referring to the weather outside so that's better than nothing. You could imagine that as our corpora grows larger we will be exposed a greater number of contexts and the Distribution Hypothesis assumption will improve. \n",
    "\n",
    "### Word2Vec Variants\n",
    "\n",
    "#### Skip-Gram\n",
    "\n",
    "The Skip-Gram method predicts the neighbors’ of a word given a center word. In the skip-gram model, we take a center word and a window of context (neighbors) words to train the model and then predict context words out to some window size for each center word.\n",
    "\n",
    "This notion of “context” or “neighboring” words is best described by considering a center word and a window of words around it. \n",
    "\n",
    "For example, if we consider the sentence **“The speedy Porsche drove past the elegant Rolls-Royce”** and a window size of 2, we’d have the following pairs for the skip-gram model:\n",
    "\n",
    "**Text:**\n",
    "**The**\tspeedy\tPorsche\tdrove\tpast\tthe\telegant\tRolls-Royce\n",
    "\n",
    "*Training Sample with window of 2*: (the, speedy), (the, Porsche)\n",
    "\n",
    "**Text:**\n",
    "The\t**speedy**\tPorsche\tdrove\tpast\tthe\telegant\tRolls-Royce\n",
    "\n",
    "*Training Sample with window of 2*: (speedy, the), (speedy, Porsche), (speedy, drove)\n",
    "\n",
    "**Text:**\n",
    "The\tspeedy\t**Porsche**\tdrove\tpast\tthe\telegant\tRolls-Royce\n",
    "\n",
    "*Training Sample with window of 2*: (Porsche, the), (Porsche, speedy), (Porsche, drove), (Porsche, past)\n",
    "\n",
    "**Text:**\n",
    "The\tspeedy\tPorsche\t**drove**\tpast\tthe\telegant\tRolls-Royce\n",
    "\n",
    "*Training Sample with window of 2*: (drove, speedy), (drove, Porsche), (drove, past), (drove, the)\n",
    "\n",
    "The **Skip-gram model** is going to output a probability distribution i.e. the probability of a word appearing in context given a center word and we are going to select the vector representation that maximizes the probability.\n",
    "\n",
    "With CountVectorizer and TF-IDF the best we could do for context was to look at common bi-grams and tri-grams (n-grams). Well, skip-grams go far beyond that and give our model much stronger contextual information.\n",
    "\n",
    "![alt text](https://www.dropbox.com/s/c7mwy6dk9k99bgh/Image%202%20-%20SkipGrams.jpg?raw=1)\n",
    "\n",
    "## Continuous Bag of Words\n",
    "\n",
    "This model takes thes opposite approach from the skip-gram model in that it tries to predict a center word based on the neighboring words. In the case of the CBOW model, we input the context words within the window (such as “the”, “Proshe”, “drove”) and aim to predict the target or center word “speedy” (the input to the prediction pipeline is reversed as compared to the SkipGram model).\n",
    "\n",
    "A graphical depiction of the input to output prediction pipeline for both variants of the Word2vec model is attached. The graphical depiction will help crystallize the difference between SkipGrams and Continuous Bag of Words.\n",
    "\n",
    "![alt text](https://www.dropbox.com/s/k3ddmbtd52wq2li/Image%203%20-%20CBOW%20Model.jpg?raw=1)\n",
    "\n",
    "## Notable Differences between Word Embedding methods:\n",
    "\n",
    "1) W2V focuses less document topic-modeling. You'll notice that the vectorizations don't really retain much information about the original document that the information came from. At least not in our examples.\n",
    "\n",
    "2) W2V can result in really large and complex vectorizations. In fact, you need Deep Neural Networks to train your Word2Vec models from scratch, but we can use helpful pretrained embeddings (thank you Google) to do really cool things!\n",
    "\n",
    "*^ All that noise....AND Spacy has pretrained a Word2Vec model you can just use? WTF JC?*\n",
    "\n",
    "Let's take a look at how to do it. "
   ]
  },
  {
   "cell_type": "code",
<<<<<<< HEAD
   "execution_count": 103,
=======
   "execution_count": 65,
>>>>>>> 12467e3600c3f6b9373a65821d6283170bbb49be
   "metadata": {},
   "outputs": [
    {
     "name": "stdout",
     "output_type": "stream",
     "text": [
      "[ 2.07984239e-01 -2.60890484e-01 -1.15457252e-01 -1.96443751e-01\n",
      " -2.83249468e-03  3.55849974e-02 -2.05170006e-01 -2.27374747e-01\n",
      "  8.56052488e-02  1.36894751e+00 -5.74124977e-02  8.06210041e-02\n",
      "  2.37275064e-02  1.17454052e-01 -6.53099641e-03 -1.24400005e-01\n",
      "  1.99086756e-01  6.37722552e-01  1.52916998e-01 -2.33504996e-01\n",
      " -2.40909994e-01 -7.11500049e-02 -9.10753161e-02  7.16734976e-02\n",
      "  1.16262749e-01 -3.91372502e-01  1.13048747e-01 -2.11327493e-01\n",
      "  1.09019078e-01 -2.44885415e-01  3.00577488e-02  4.77855802e-02\n",
      "  7.37800002e-02  2.57142037e-01  2.62586236e-01 -1.66897491e-01\n",
      "  1.87596500e-01 -1.23680010e-02 -1.76299751e-01  1.11685000e-01\n",
      "  1.82024967e-02  9.86500084e-03 -3.58770013e-01 -2.23265499e-01\n",
      " -4.37720008e-02  3.63999486e-01  7.42954984e-02  1.21225506e-01\n",
      "  1.37013003e-01 -5.50666526e-02  2.66017504e-02  8.87180045e-02\n",
      " -1.14092499e-01 -2.02865750e-01  3.63092512e-01 -3.08394760e-01\n",
      "  1.13859497e-01  3.13650146e-02  2.62076259e-01  1.90399922e-02\n",
      "  7.24634901e-02  2.79004984e-02  8.65525007e-02  6.92452565e-02\n",
      " -9.77424979e-02 -1.47966757e-01  2.32025003e-03  1.62278250e-01\n",
      "  1.59857497e-02  3.52048993e-01 -5.51802553e-02  2.13179991e-01\n",
      "  3.63152504e-01  1.01501703e-01  1.73463732e-01  9.20909941e-02\n",
      "  1.27134249e-01  1.00527555e-02  2.44570002e-01 -6.89124968e-03\n",
      "  6.30075037e-02  1.31706819e-01 -1.36811763e-01 -3.73892523e-02\n",
      " -1.71941705e-02 -1.47585243e-01  2.69147515e-01  1.97296605e-01\n",
      " -1.14209257e-01  7.49210045e-02  1.12407543e-02  6.53382465e-02\n",
      "  7.39065409e-02 -1.47568747e-01 -9.98437554e-02  2.56100774e-01\n",
      "  3.41899954e-02 -1.95817441e-01  1.52259752e-01 -2.98299998e-01\n",
      "  3.71480025e-02  1.38142243e-01 -3.84989977e-02 -2.02540010e-02\n",
      "  2.38000415e-03 -8.94232512e-01  1.20125249e-01 -1.48699433e-03\n",
      "  3.07812482e-01  1.31904989e-01  2.28665009e-01 -4.28467512e-01\n",
      " -1.50100499e-01 -3.99947166e-05  7.09750131e-03 -9.08460468e-02\n",
      "  1.15139998e-01  2.73323029e-01  6.97097555e-02  1.37960017e-01\n",
      " -7.76264742e-02 -3.58945057e-02  1.47073746e-01 -2.70538747e-01\n",
      " -4.16769907e-02 -2.20907256e-01  1.29162997e-01  5.66806756e-02\n",
      " -2.10923001e-01 -1.12912245e-01 -1.24349967e-02  2.90902629e-02\n",
      " -9.14399922e-02  1.48545001e-02  1.73015013e-01  2.45295018e-01\n",
      "  2.36412495e-01  1.51691005e-01 -6.30199909e-02  2.67812014e-01\n",
      " -1.31286001e+00 -7.58474991e-02  1.29823506e-01 -1.51231751e-01\n",
      " -8.19625035e-02  1.39788002e-01 -1.48047015e-01  6.38692454e-02\n",
      "  2.33854756e-01 -9.88075137e-03  1.93658501e-01  2.27525085e-03\n",
      "  4.02045511e-02 -4.90897447e-02 -3.33292484e-01 -2.25562245e-01\n",
      " -2.13249400e-03 -1.25110000e-01 -2.07584769e-01 -8.20675045e-02\n",
      " -3.08577478e-01  2.42340490e-01  1.01082012e-01  1.69142485e-02\n",
      " -2.96225518e-01 -2.39765748e-01 -2.06788242e-01 -2.19947502e-01\n",
      "  1.32491991e-01  2.83937510e-02 -2.12792531e-02  2.11183250e-01\n",
      "  7.47520030e-02  5.15667535e-02 -2.79584527e-01  5.96700013e-02\n",
      " -1.40897244e-01 -7.72149861e-03  9.76998210e-02 -2.29924992e-01\n",
      " -3.91512439e-02 -2.62144983e-01 -9.46324915e-02 -1.49488509e-01\n",
      " -4.47402522e-02  4.87175062e-02 -1.00491997e-02 -1.57508999e-01\n",
      "  1.83425248e-01 -7.38234967e-02 -5.53542078e-02  3.62554997e-01\n",
      "  6.00774996e-02 -3.51069048e-02 -2.12482512e-02 -5.44437282e-02\n",
      "  5.77000529e-03 -4.17417213e-02 -2.30720505e-01  3.05450335e-03\n",
      " -2.60736495e-01  9.90725309e-03  1.44257501e-01  1.58988327e-01\n",
      "  3.12480003e-01 -4.21992540e-02  1.47941500e-01 -2.60480493e-03\n",
      " -1.18254803e-01  3.76944989e-02  8.56549889e-02  2.98762500e-01\n",
      " -1.82907507e-01 -5.01237512e-01 -3.22812736e-01 -1.04721501e-01\n",
      " -2.11069018e-01 -1.58998221e-01 -1.63172990e-01 -1.53411508e-01\n",
      " -4.72389996e-01 -2.52688266e-02  6.80677444e-02 -3.47925007e-01\n",
      "  1.00139998e-01  3.17759998e-02 -2.02882513e-02  2.72649899e-02\n",
      "  2.80047543e-02  6.36423454e-02 -2.32529998e-01  1.78696245e-01\n",
      " -4.16299030e-02 -6.78092465e-02 -1.87866479e-01 -3.47625017e-01\n",
      "  5.43992445e-02 -1.05034754e-01  3.68332490e-02  2.01451257e-01\n",
      " -2.68060744e-01 -7.03077465e-02 -3.46807480e-01  1.18331507e-01\n",
      "  3.82332467e-02 -1.15444995e-01 -9.92614999e-02 -4.42850590e-03\n",
      " -3.42225015e-01  3.17104995e-01 -1.48628756e-01 -6.13242462e-02\n",
      " -8.43070000e-02  1.16139993e-01  1.61483496e-01  1.70949996e-01\n",
      "  1.95979327e-01  2.56112486e-01 -2.15889998e-02 -2.78974995e-02\n",
      "  2.59169757e-01  1.79182500e-01 -2.46662006e-01  1.68815508e-01\n",
      " -3.45774740e-03  2.30412483e-01 -1.22785002e-01  2.36632437e-01\n",
      " -4.52876002e-01 -3.92082512e-01 -2.01881751e-01 -1.27992496e-01\n",
      "  2.75517516e-02  5.54060042e-02 -3.12609941e-01  1.01338752e-01\n",
      "  1.83728248e-01  4.08405006e-01  1.23905048e-01  4.37955022e-01\n",
      "  2.54640013e-01 -6.01055101e-02 -2.90097505e-01  7.99837485e-02\n",
      "  6.81065023e-02  6.80774972e-02  1.45408496e-01 -1.65033251e-01\n",
      " -6.48526996e-02 -1.71237499e-01 -5.75472489e-02 -4.43175063e-03\n",
      "  2.72267759e-01 -2.11504504e-01 -2.87027508e-01  3.25110495e-01\n",
      " -4.72727492e-02 -3.86672527e-01  2.08224997e-01  1.24032997e-01]\n"
     ]
    }
   ],
   "source": [
    "# Process a text\n",
    "nlp = spacy.load('en_core_web_lg')\n",
    "\n",
    "doc = nlp(\"Two bananas in pyjamas\")\n",
    "\n",
    "# Get the vector for the token \"bananas\"\n",
    "bananas_vector = doc.vector\n",
    "print(bananas_vector)"
   ]
  },
  {
   "cell_type": "code",
<<<<<<< HEAD
   "execution_count": 104,
=======
   "execution_count": 66,
>>>>>>> 12467e3600c3f6b9373a65821d6283170bbb49be
   "metadata": {},
   "outputs": [
    {
     "data": {
      "text/plain": [
       "300"
      ]
     },
<<<<<<< HEAD
     "execution_count": 104,
=======
     "execution_count": 66,
>>>>>>> 12467e3600c3f6b9373a65821d6283170bbb49be
     "metadata": {},
     "output_type": "execute_result"
    }
   ],
   "source": [
    "len(bananas_vector)"
   ]
  },
  {
   "cell_type": "code",
<<<<<<< HEAD
   "execution_count": 105,
=======
   "execution_count": 67,
>>>>>>> 12467e3600c3f6b9373a65821d6283170bbb49be
   "metadata": {},
   "outputs": [
    {
     "name": "stdout",
     "output_type": "stream",
     "text": [
      "0.6325916466756616\n"
     ]
    }
   ],
   "source": [
    "doc1 = nlp(\"It's a warm summer day\")\n",
    "doc2 = nlp(\"I like dogs.\")\n",
    "\n",
    "# Get the similarity of doc1 and doc2\n",
    "similarity = doc1.similarity(doc2)\n",
    "print(similarity)"
   ]
  },
  {
   "cell_type": "code",
<<<<<<< HEAD
   "execution_count": 108,
=======
   "execution_count": 68,
>>>>>>> 12467e3600c3f6b9373a65821d6283170bbb49be
   "metadata": {},
   "outputs": [
    {
     "data": {
      "text/plain": [
       "array([[ 2.7216613 ,  4.74283704],\n",
       "       [ 3.57138147,  1.16076736],\n",
       "       [ 0.4520331 ,  0.85378257],\n",
       "       [ 4.04156005, -1.08250273],\n",
       "       [ 3.73183489, -3.98595206],\n",
       "       [-2.49703773,  0.29905808],\n",
       "       [-1.86004067, -1.78956447],\n",
       "       [-2.81452787,  0.00585653],\n",
       "       [-3.50238303,  0.67941327],\n",
       "       [-1.94800986,  1.00353534],\n",
       "       [-1.89647166, -1.88723095]])"
      ]
     },
<<<<<<< HEAD
     "execution_count": 108,
=======
     "execution_count": 68,
>>>>>>> 12467e3600c3f6b9373a65821d6283170bbb49be
     "metadata": {},
     "output_type": "execute_result"
    }
   ],
   "source": [
    "# import the PCA module from sklearn\n",
    "from sklearn.decomposition import PCA\n",
    "\n",
    "def get_word_vectors(words):\n",
    "    # converts a list of words into their word vectors\n",
    "    return [nlp(word).vector for word in words]\n",
    "\n",
    "words = [\"guitar\", \"amp\", \"stage\", \"speakers\", \"cables\", \"ball\", \"court\", \"team\", \"game\", \"jersey\", \"points\"]\n",
    "\n",
    "# intialise pca model and tell it to project data down onto 2 dimensions\n",
    "pca = PCA(n_components=2)\n",
    "\n",
    "# fit the pca model to our 300D data, this will work out which is the best \n",
    "# way to project the data down that will best maintain the relative distances \n",
    "# between data points. It will store these intructioons on how to transform the data.\n",
    "pca.fit(get_word_vectors(words))\n",
    "\n",
    "# Tell our (fitted) pca model to transform our 300D data down onto 2D using the \n",
    "# instructions it learnt during the fit phase.\n",
    "word_vecs_2d = pca.transform(get_word_vectors(words))\n",
    "\n",
    "# let's look at our new 2D word vectors\n",
    "word_vecs_2d"
   ]
  },
  {
   "cell_type": "code",
<<<<<<< HEAD
   "execution_count": 109,
=======
   "execution_count": 69,
>>>>>>> 12467e3600c3f6b9373a65821d6283170bbb49be
   "metadata": {},
   "outputs": [
    {
     "data": {
<<<<<<< HEAD
      "image/png": "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\n",
=======
      "image/png": "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\n",
>>>>>>> 12467e3600c3f6b9373a65821d6283170bbb49be
      "text/plain": [
       "<Figure size 1440x1080 with 1 Axes>"
      ]
     },
     "metadata": {
      "needs_background": "light"
     },
     "output_type": "display_data"
    }
   ],
   "source": [
    "# create a nice big plot \n",
    "plt.figure(figsize=(20,15))\n",
    "\n",
    "# plot the scatter plot of where the words will be\n",
    "plt.scatter(word_vecs_2d[:,0], word_vecs_2d[:,1])\n",
    "\n",
    "# for each word and coordinate pair: draw the text on the plot\n",
    "for word, coord in zip(words, word_vecs_2d):\n",
    "    x, y = coord\n",
    "    plt.text(x, y, word, size= 15)\n",
    "\n",
    "# show the plot\n",
    "plt.show()"
   ]
  },
  {
   "cell_type": "markdown",
   "metadata": {},
   "source": [
    "## Follow Along\n",
    "### Extract Document Vectors\n",
    "\n",
    "Let's see how much the quality of our query will work when we try a new embedding model.\n",
    "\n",
    "Steps:\n",
    "* Extract Vectors from Each Document\n",
    "* Search using KNN\n"
   ]
  },
  {
   "cell_type": "code",
<<<<<<< HEAD
   "execution_count": 110,
=======
   "execution_count": 70,
>>>>>>> 12467e3600c3f6b9373a65821d6283170bbb49be
   "metadata": {},
   "outputs": [],
   "source": [
    "X = [nlp(str(d)).vector for d in data]"
   ]
  },
  {
   "cell_type": "code",
<<<<<<< HEAD
   "execution_count": 111,
=======
   "execution_count": 72,
>>>>>>> 12467e3600c3f6b9373a65821d6283170bbb49be
   "metadata": {},
   "outputs": [
    {
     "data": {
      "text/plain": [
<<<<<<< HEAD
       "array([-4.94136624e-02,  8.91521797e-02, -6.22583404e-02, -6.55991137e-02,\n",
       "        1.42151900e-02, -6.09974079e-02, -3.40635469e-03, -8.41582268e-02,\n",
       "       -3.98185849e-02,  2.27209353e+00, -1.64655373e-01,  3.08230836e-02,\n",
       "        7.24739507e-02, -3.38015705e-02, -1.39267728e-01, -5.92595823e-02,\n",
       "       -6.45333007e-02,  9.97481704e-01, -5.03152870e-02, -4.59097959e-02,\n",
       "        3.44387069e-02, -2.73456573e-02, -1.61978193e-02, -2.51527838e-02,\n",
       "       -1.07263513e-02,  5.64741194e-02, -8.69388208e-02, -2.89479829e-02,\n",
       "       -6.22188225e-02, -9.73878894e-03, -7.14400336e-02,  7.95348585e-02,\n",
       "        1.13076754e-02,  8.51901770e-02,  8.53225812e-02, -7.97231048e-02,\n",
       "       -9.25532077e-03,  1.12458793e-02, -6.99364096e-02, -5.13640270e-02,\n",
       "        2.76988745e-02,  1.21050470e-01,  7.67085627e-02, -6.04435802e-02,\n",
       "       -5.47182783e-02,  2.26785596e-02, -9.14914235e-02, -3.90762985e-02,\n",
       "        1.10263061e-02,  4.78373915e-02, -5.91013357e-02,  5.15886769e-02,\n",
       "       -7.86071047e-02,  2.41832379e-02, -5.42069320e-03,  3.53000611e-02,\n",
       "       -4.59668040e-03, -4.98076975e-02, -2.04320485e-03, -1.25020936e-01,\n",
       "       -3.10611781e-02, -3.22140637e-03, -2.02602465e-02,  1.82621792e-01,\n",
       "        3.61349210e-02,  3.75937554e-03,  4.90712980e-03, -9.24741570e-03,\n",
       "        2.68433578e-02, -5.88623108e-03,  7.10543990e-02,  2.86564976e-03,\n",
       "        1.15313135e-01, -4.80052046e-02,  6.99020550e-02, -8.65606740e-02,\n",
       "        4.59989533e-02, -4.50325795e-02, -3.92551012e-02,  1.66314125e-01,\n",
       "       -7.25228805e-04,  8.80141333e-02, -1.21860132e-01,  2.89996527e-02,\n",
       "       -1.34814177e-02, -1.58333838e-01, -1.03272021e-01, -1.23579361e-01,\n",
       "        2.16763020e-01,  4.37767766e-02, -5.08837402e-02, -4.86078747e-02,\n",
       "        2.78663132e-02,  5.15446179e-02,  1.11875944e-01, -3.05881165e-02,\n",
       "       -7.69101502e-03, -5.36090583e-02,  4.70065605e-03, -2.26351880e-02,\n",
       "       -1.26957987e-03, -3.89565085e-03, -6.60926253e-02,  3.65010160e-03,\n",
       "        5.52229993e-02, -9.20387030e-01,  5.48573360e-02,  2.43621431e-02,\n",
       "       -1.56347509e-02, -5.25503978e-03,  3.98482606e-02, -2.89962236e-02,\n",
       "       -7.81230070e-03, -9.24600586e-02, -2.46916283e-02,  2.31557842e-02,\n",
       "       -1.66256372e-02,  2.06912868e-02,  1.16991699e-02,  1.04280990e-02,\n",
       "        8.43471363e-02, -4.01782058e-03, -4.12393287e-02, -2.00967817e-03,\n",
       "       -4.94661815e-02,  1.36077374e-01,  7.73556679e-02, -4.20738533e-02,\n",
       "        1.18545610e-02,  4.92787138e-02, -8.36487412e-02, -1.16283959e-02,\n",
       "       -3.07823699e-02, -2.69616134e-02,  1.13487747e-02,  4.33694050e-02,\n",
       "       -2.42656260e-03,  5.88898957e-02,  5.04013598e-02, -7.11420551e-02,\n",
       "       -7.60553420e-01,  1.97930690e-02,  1.03246368e-01, -3.90198082e-02,\n",
       "        1.12433016e-01, -7.37493485e-02, -4.08170260e-02,  7.18190819e-02,\n",
       "       -4.27881889e-02, -7.92295393e-03, -2.59319600e-02, -3.20054851e-02,\n",
       "        2.26744227e-02,  3.85178532e-03, -1.68188650e-03, -1.27573041e-02,\n",
       "       -8.90450552e-02,  1.81725156e-02, -7.45759606e-02,  2.39469670e-02,\n",
       "        1.20904343e-03, -1.44015932e-02, -6.66240603e-02, -1.10045351e-01,\n",
       "       -1.94589496e-01, -9.15622935e-02,  1.28341481e-01, -6.09826557e-02,\n",
       "        1.19980708e-01,  2.62859259e-02,  1.10051753e-02,  1.38527788e-02,\n",
       "        7.92699754e-02, -8.10692906e-02, -1.43073462e-02, -1.16956327e-03,\n",
       "        4.17869724e-02,  3.04120295e-02,  2.72513535e-02, -5.99690992e-03,\n",
       "       -8.23962539e-02, -3.31987850e-02, -8.71628374e-02, -9.41673145e-02,\n",
       "       -1.00356713e-01, -7.14331120e-03, -3.71084101e-02, -1.67218987e-02,\n",
       "        5.14642941e-03,  6.60672709e-02, -7.44910166e-03, -4.22049575e-02,\n",
       "       -1.01790152e-01,  8.95836428e-02,  4.56079431e-02,  1.35886952e-01,\n",
       "       -6.17587753e-02,  3.18255201e-02, -4.69917580e-02,  1.39919996e-01,\n",
       "        7.05670714e-02, -5.42433187e-03, -5.47014736e-02,  1.67247970e-02,\n",
       "        1.92637980e-01,  4.21475507e-02,  4.74877469e-02,  2.64878515e-02,\n",
       "       -2.39705462e-02,  6.38348684e-02, -1.60202924e-02, -1.45041745e-03,\n",
       "       -4.20395210e-02, -7.65844509e-02,  8.77096727e-02,  1.24389015e-01,\n",
       "       -1.47033051e-01,  3.12393010e-02, -1.96611077e-01,  4.72978912e-02,\n",
       "       -8.86190981e-02, -1.83870010e-02, -7.77476430e-02,  4.29239571e-02,\n",
       "        5.68576939e-02, -3.25667560e-02,  1.22824227e-02,  5.87739125e-02,\n",
       "        3.38291004e-02,  1.16620548e-02, -6.34934008e-02,  3.17957960e-02,\n",
       "        4.91988622e-02,  3.24338414e-02, -5.94374090e-02, -3.84772122e-02,\n",
       "       -6.77713472e-03, -9.11074951e-02, -2.34528556e-02,  3.33870156e-03,\n",
       "        4.95817661e-02, -2.38440186e-02,  9.77479070e-02,  7.01904148e-02,\n",
       "        7.46555924e-02, -1.59827709e-01, -2.52168812e-02, -1.31336778e-01,\n",
       "       -1.34100750e-01,  2.64521055e-02,  4.15643789e-02,  3.26219685e-02,\n",
       "       -5.30522354e-02, -7.66436160e-02,  4.40909527e-02,  1.67118132e-01,\n",
       "       -5.53625356e-03, -1.79406255e-02, -1.71342120e-02,  8.37388635e-03,\n",
       "        9.41744521e-02,  1.51581034e-01, -1.04310159e-02,  1.60937861e-01,\n",
       "        2.54909880e-02, -1.52570769e-01, -1.29327215e-02, -7.02792928e-02,\n",
       "        4.08130795e-01, -4.97412272e-02,  1.60334483e-01, -1.65638663e-02,\n",
       "       -7.23985955e-02, -6.46128207e-02,  3.41851860e-02,  4.17931490e-02,\n",
       "       -3.45858224e-02,  8.73419270e-02,  6.45623952e-02,  1.23445228e-01,\n",
       "        1.36042446e-01,  1.47391146e-03,  3.80425863e-02,  5.64238168e-02,\n",
       "       -5.06862290e-02, -8.16323981e-02,  6.35886043e-02, -8.45800620e-03,\n",
       "        1.09367654e-01, -8.97771120e-02, -2.15129480e-01,  4.17206157e-03,\n",
       "        6.28974214e-02, -2.11995188e-02, -7.12669501e-03,  1.15579730e-02,\n",
       "        9.24193673e-03, -3.80106382e-02,  5.87040037e-02,  1.34555325e-01],\n",
       "      dtype=float32)"
      ]
     },
     "execution_count": 111,
=======
       "(401, 300)"
      ]
     },
     "execution_count": 72,
>>>>>>> 12467e3600c3f6b9373a65821d6283170bbb49be
     "metadata": {},
     "output_type": "execute_result"
    }
   ],
   "source": [
    "pd.DataFrame(X).shape"
   ]
  },
  {
   "cell_type": "markdown",
   "metadata": {},
   "source": [
    "## Challenge\n",
    "\n",
    "You will extract word embeddings from documents using Spacy's pre-trained model in the upcoming module project. "
   ]
  },
  {
   "cell_type": "markdown",
   "metadata": {},
   "source": [
    "# Review\n",
    "For your module project assignment you will create vector representations of indeed.com Data Science job listings. You will then estimate a similarity model to perform searches for job descriptions. Get started with your [module project here](./LS_DS_412_Vector_Representations_Assignment.ipynb)"
   ]
  },
  {
   "cell_type": "markdown",
   "metadata": {},
   "source": [
    "# Sources\n",
    "\n",
    "* Spacy 101 - https://course.spacy.io\n",
    "* NLTK Book - https://www.nltk.org/book/\n",
    "* An Introduction to Information Retrieval - https://nlp.stanford.edu/IR-book/pdf/irbookonlinereading.pdf"
   ]
  }
 ],
 "metadata": {
  "kernelspec": {
<<<<<<< HEAD
   "display_name": "Unit4-Sprint1-NLP (python3)",
   "language": "python",
   "name": "u4s1nlp"
=======
   "display_name": "U4S1DS10 (Python 3.7)",
   "language": "python",
   "name": "u4-s1-nlp-ds10"
>>>>>>> 12467e3600c3f6b9373a65821d6283170bbb49be
  },
  "language_info": {
   "codemirror_mode": {
    "name": "ipython",
    "version": 3
   },
   "file_extension": ".py",
   "mimetype": "text/x-python",
   "name": "python",
   "nbconvert_exporter": "python",
   "pygments_lexer": "ipython3",
<<<<<<< HEAD
   "version": "3.7.4"
=======
   "version": "3.7.0"
>>>>>>> 12467e3600c3f6b9373a65821d6283170bbb49be
  }
 },
 "nbformat": 4,
 "nbformat_minor": 4
}
